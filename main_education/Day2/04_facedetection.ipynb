{
 "cells": [
  {
   "cell_type": "code",
   "execution_count": 2,
   "metadata": {},
   "outputs": [],
   "source": [
    "# 라이브러리 불러오기\n",
    "import cv2\n",
    "import os\n",
    "import numpy as np"
   ]
  },
  {
   "cell_type": "code",
   "execution_count": 4,
   "metadata": {},
   "outputs": [
    {
     "name": "stdout",
     "output_type": "stream",
     "text": [
      "1번째 얼굴 저장됨: output\\face_1.jpg\n",
      "2번째 얼굴 저장됨: output\\face_2.jpg\n",
      "3번째 얼굴 저장됨: output\\face_3.jpg\n",
      "4번째 얼굴 저장됨: output\\face_4.jpg\n",
      "5번째 얼굴 저장됨: output\\face_5.jpg\n",
      "6번째 얼굴 저장됨: output\\face_6.jpg\n",
      "7번째 얼굴 저장됨: output\\face_7.jpg\n",
      "8번째 얼굴 저장됨: output\\face_8.jpg\n",
      "9번째 얼굴 저장됨: output\\face_9.jpg\n",
      "10번째 얼굴 저장됨: output\\face_10.jpg\n"
     ]
    }
   ],
   "source": [
    "# OpenCV에서 제공하는 haar cascade 모델 경로 설정하기\n",
    "cascade_path = cv2.data.haarcascades + 'haarcascade_frontalface_default.xml'\n",
    "face_cascade = cv2.CascadeClassifier(cascade_path)\n",
    "\n",
    "# 웹캠 열기\n",
    "cap = cv2.VideoCapture(0)\n",
    "\n",
    "# 얼굴 저장 폴더 만들기\n",
    "output_dir = \"output\"\n",
    "if not os.path.exists(output_dir):\n",
    "    os.makedirs(output_dir)\n",
    "\n",
    "# 저장할 얼굴 이미지의 최대 개수\n",
    "max_image = 10\n",
    "output_cnt = 0\n",
    "\n",
    "while(True):\n",
    "    # 웹캠에서 프레임 읽기\n",
    "    ret, frame = cap.read()\n",
    "    if not ret:\n",
    "        print(\"카메라를 열 수 없습니다\")\n",
    "        break\n",
    "\n",
    "    # 컬러를 흑백으로 바꾸기\n",
    "    gray = cv2.cvtColor(frame, cv2.COLOR_BGR2GRAY)\n",
    "\n",
    "    # 얼굴 검출 수행\n",
    "    faces = face_cascade.detectMultiScale(gray, scaleFactor=1.3, minNeighbors=5)\n",
    "\n",
    "    # 얼굴마다 처리\n",
    "    for (x, y, w, h) in faces:\n",
    "        # 사각형 그리기\n",
    "        cv2.rectangle(frame, (x, y), (x+w, y+h), (255, 0, 0), 2)   # Object Detection의 사각형 구현\n",
    "\n",
    "        # 얼굴만 잘라내기\n",
    "        face_img = frame[y:y+h, x:x+w]\n",
    "\n",
    "        # 저장할 파일 경로 설정\n",
    "        filename = os.path.join(output_dir, f\"face_{output_cnt + 1}.jpg\")\n",
    "\n",
    "        # 얼굴 이미지 저장\n",
    "        cv2.imwrite(filename, face_img)\n",
    "        output_cnt += 1\n",
    "        print(f\"{output_cnt}번째 얼굴 저장됨: {filename}\")\n",
    "\n",
    "        # 얼굴 10개 저장 완료시 종료\n",
    "        if output_cnt >= max_image:\n",
    "            break\n",
    "\n",
    "    # 결과 프레임 보여주기\n",
    "    cv2.imshow(\"Face Detection\", frame)\n",
    "\n",
    "    # ESC 키 누르면 종료\n",
    "    if cv2.waitKey(1) & 0xFF == 27:\n",
    "        break\n",
    "\n",
    "    # 저장 완료시\n",
    "    if output_cnt >= max_image:\n",
    "        break\n",
    "\n",
    "# 자원 해제\n",
    "cap.release()\n",
    "cv2.destroyAllWindows()"
   ]
  },
  {
   "cell_type": "code",
   "execution_count": null,
   "metadata": {},
   "outputs": [],
   "source": []
  }
 ],
 "metadata": {
  "kernelspec": {
   "display_name": "SWAI",
   "language": "python",
   "name": "python3"
  },
  "language_info": {
   "codemirror_mode": {
    "name": "ipython",
    "version": 3
   },
   "file_extension": ".py",
   "mimetype": "text/x-python",
   "name": "python",
   "nbconvert_exporter": "python",
   "pygments_lexer": "ipython3",
   "version": "3.11.13"
  }
 },
 "nbformat": 4,
 "nbformat_minor": 2
}
