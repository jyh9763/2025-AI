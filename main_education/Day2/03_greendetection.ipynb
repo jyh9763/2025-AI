{
 "cells": [
  {
   "cell_type": "code",
   "execution_count": 1,
   "metadata": {},
   "outputs": [],
   "source": [
    "import cv2\n",
    "import numpy as np"
   ]
  },
  {
   "cell_type": "code",
   "execution_count": 5,
   "metadata": {},
   "outputs": [
    {
     "name": "stdout",
     "output_type": "stream",
     "text": [
      "초록색 Object 탐지 시작! esc키를 넣어 종료하세요\n"
     ]
    }
   ],
   "source": [
    "#웹캠 열기\n",
    "\n",
    "cap = cv2.VideoCapture(0)   \n",
    "\n",
    "if not cap.isOpened():\n",
    "    print(\"웹캠을 열 수 없습니다.\")\n",
    "    exit()\n",
    "    \n",
    "print(\"초록색 Object 탐지 시작! esc키를 넣어 종료하세요\")\n",
    "\n",
    "while True:\n",
    "    ret, frame = cap.read()\n",
    "    if not ret:\n",
    "        print(\"프레임을 읽을 수 없습니다.\")\n",
    "        break\n",
    "\n",
    "    # HSV 색상 공간으로 변환\n",
    "    hsv_frame = cv2.cvtColor(frame, cv2.COLOR_BGR2HSV)\n",
    "    \n",
    "    # 색상 범위 설정 (초록색)\n",
    "    lower_green = np.array([40, 100, 100])\n",
    "    upper_green = np.array([80, 255, 255])\n",
    "\n",
    "    # 초록색 영역 마스크 생성 : 색상 범위에 해당하는 부분만 추출\n",
    "    mask = cv2.inRange(hsv_frame,lower_green, upper_green)\n",
    "    \n",
    "    #마스크에 윤곽선 적용\n",
    "    contours, _ = cv2.findContours(mask, cv2.RETR_EXTERNAL, cv2.CHAIN_APPROX_SIMPLE)\n",
    "    \n",
    "    #윤곽선 그리기\n",
    "    for cnt in contours:\n",
    "        if cv2.contourArea(cnt) > 500:\n",
    "            x,y,w,h = cv2.boundingRect(cnt)\n",
    "            cv2.rectangle(frame, (x, y), (x + w, y + h), (0, 255, 0), 2)\n",
    "            cv2.putText(frame,\"Tracking\", (x, y-10),cv2.FONT_HERSHEY_SIMPLEX, 0.5, (0, 255, 0), 2)\n",
    "    # 결과 출력\n",
    "    cv2.imshow(\"Original Frame\", frame)\n",
    "    cv2.imshow(\"Green Mask\", mask)\n",
    "\n",
    "    # 'esc' 키를 누르면 종료\n",
    "    if cv2.waitKey(1) & 0xFF == 27:\n",
    "        break\n",
    "\n",
    "# 자원 해제\n",
    "cap.release()\n",
    "cv2.destroyAllWindows()"
   ]
  },
  {
   "cell_type": "code",
   "execution_count": 7,
   "metadata": {},
   "outputs": [
    {
     "name": "stdout",
     "output_type": "stream",
     "text": [
      "초록색 Object 탐지 시작! esc키를 넣어 종료하세요\n"
     ]
    }
   ],
   "source": [
    "#웹캠 열기\n",
    "cap = cv2.VideoCapture(0)   \n",
    "\n",
    "if not cap.isOpened():\n",
    "    print(\"웹캠을 열 수 없습니다.\")\n",
    "    exit()\n",
    "    \n",
    "print(\"초록색 Object 탐지 시작! esc키를 넣어 종료하세요\")\n",
    "\n",
    "while True:\n",
    "    ret, frame = cap.read()\n",
    "    if not ret:\n",
    "        print(\"프레임을 읽을 수 없습니다.\")\n",
    "        break\n",
    "\n",
    "    # HSV 색상 공간으로 변환\n",
    "    hsv_frame = cv2.cvtColor(frame, cv2.COLOR_BGR2HSV)\n",
    "    \n",
    "    # 색상 범위 설정 (초록색)\n",
    "    lower_green = np.array([100, 100, 100])\n",
    "    upper_green = np.array([140, 255, 255])\n",
    "\n",
    "    # 초록색 영역 마스크 생성 : 색상 범위에 해당하는 부분만 추출\n",
    "    mask = cv2.inRange(hsv_frame,lower_green, upper_green)\n",
    "    \n",
    "    #마스크에 윤곽선 적용\n",
    "    contours, _ = cv2.findContours(mask, cv2.RETR_EXTERNAL, cv2.CHAIN_APPROX_SIMPLE)\n",
    "    \n",
    "    #윤곽선 그리기\n",
    "    for cnt in contours:\n",
    "        if cv2.contourArea(cnt) > 500:\n",
    "            x,y,w,h = cv2.boundingRect(cnt)\n",
    "            cv2.rectangle(frame, (x, y), (x + w, y + h), (0, 255, 0), 2)\n",
    "            cv2.putText(frame,\"Tracking\", (x, y-10),cv2.FONT_HERSHEY_SIMPLEX, 0.5, (0, 255, 0), 2)\n",
    "    # 결과 출력\n",
    "    cv2.imshow(\"Original Frame\", frame)\n",
    "    cv2.imshow(\"Green Mask\", mask)\n",
    "\n",
    "    # 'esc' 키를 누르면 종료\n",
    "    if cv2.waitKey(1) & 0xFF == 27:\n",
    "        break\n",
    "\n",
    "# 자원 해제\n",
    "cap.release()\n",
    "cv2.destroyAllWindows()"
   ]
  },
  {
   "cell_type": "code",
   "execution_count": 8,
   "metadata": {},
   "outputs": [
    {
     "name": "stdout",
     "output_type": "stream",
     "text": [
      "초록색 Object 탐지 시작! esc키를 넣어 종료하세요\n"
     ]
    }
   ],
   "source": [
    "#웹캠 열기\n",
    "cap = cv2.VideoCapture(0)   \n",
    "\n",
    "if not cap.isOpened():\n",
    "    print(\"웹캠을 열 수 없습니다.\")\n",
    "    exit()\n",
    "    \n",
    "print(\"초록색 Object 탐지 시작! esc키를 넣어 종료하세요\")\n",
    "\n",
    "while True:\n",
    "    ret, frame = cap.read()\n",
    "    if not ret:\n",
    "        print(\"프레임을 읽을 수 없습니다.\")\n",
    "        break\n",
    "\n",
    "    # HSV 색상 공간으로 변환\n",
    "    hsv_frame = cv2.cvtColor(frame, cv2.COLOR_BGR2HSV)\n",
    "    \n",
    "    # 빨간색 범위\n",
    "    lower_red1 = np.array([0, 100, 100])\n",
    "    upper_red1 = np.array([10, 255, 255])\n",
    "\n",
    "    lower_red2 = np.array([160, 100, 100])\n",
    "    upper_red2 = np.array([179, 255, 255])\n",
    "\n",
    "    # 초록색 영역 마스크 생성 : 색상 범위에 해당하는 부분만 추출\n",
    "    mask1 = cv2.inRange(hsv_frame, lower_red1, upper_red1)\n",
    "    mask2 = cv2.inRange(hsv_frame, lower_red2, upper_red2)\n",
    "    mask = cv2.bitwise_or(mask1, mask2)\n",
    "    \n",
    "    #마스크에 윤곽선 적용\n",
    "    contours, _ = cv2.findContours(mask, cv2.RETR_EXTERNAL, cv2.CHAIN_APPROX_SIMPLE)\n",
    "    \n",
    "    #윤곽선 그리기\n",
    "    for cnt in contours:\n",
    "        if cv2.contourArea(cnt) > 500:\n",
    "            x,y,w,h = cv2.boundingRect(cnt)\n",
    "            cv2.rectangle(frame, (x, y), (x + w, y + h), (0, 255, 0), 2)\n",
    "            cv2.putText(frame,\"Tracking\", (x, y-10),cv2.FONT_HERSHEY_SIMPLEX, 0.5, (0, 255, 0), 2)\n",
    "    # 결과 출력\n",
    "    cv2.imshow(\"Original Frame\", frame)\n",
    "    cv2.imshow(\"Green Mask\", mask)\n",
    "\n",
    "    # 'esc' 키를 누르면 종료\n",
    "    if cv2.waitKey(1) & 0xFF == 27:\n",
    "        break\n",
    "\n",
    "# 자원 해제\n",
    "cap.release()\n",
    "cv2.destroyAllWindows()"
   ]
  },
  {
   "cell_type": "markdown",
   "metadata": {},
   "source": []
  }
 ],
 "metadata": {
  "kernelspec": {
   "display_name": "SWAI",
   "language": "python",
   "name": "python3"
  },
  "language_info": {
   "codemirror_mode": {
    "name": "ipython",
    "version": 3
   },
   "file_extension": ".py",
   "mimetype": "text/x-python",
   "name": "python",
   "nbconvert_exporter": "python",
   "pygments_lexer": "ipython3",
   "version": "3.11.13"
  }
 },
 "nbformat": 4,
 "nbformat_minor": 2
}
