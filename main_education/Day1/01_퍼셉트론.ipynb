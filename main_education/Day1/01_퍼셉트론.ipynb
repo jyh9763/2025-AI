{
 "cells": [
  {
   "cell_type": "code",
   "execution_count": 13,
   "metadata": {},
   "outputs": [
    {
     "name": "stdout",
     "output_type": "stream",
     "text": [
      "[0.35 0.6 ]\n"
     ]
    }
   ],
   "source": [
    "import numpy as np\n",
    "\n",
    "network = {}\n",
    "\n",
    "network['w1'] = np.array([[0.1, 0.2], [0.3, 0.4]])    # 가중치 설정\n",
    "network['b1'] = np.array([0.1, 0.2])  # 편향 설정\n",
    "\n",
    "w1 = network['w1']\n",
    "b1 = network['b1']\n",
    "\n",
    "x = np.array([1.0, 0.5])    # 입력값 설정# ReLU 함수 구현\n",
    "\n",
    "a1 = np.dot(x, w1) + b1    # 퍼셉트론(dot: 행렬곱)\n",
    "\n",
    "# ReLU 함수 구현\n",
    "def relu(x):\n",
    "    \"\"\"\n",
    "    ReLU 함수: 입력이 0보다 작으면 0, 0보다 크면 입력값을 그대로 반환합니다.\n",
    "    \n",
    "    Args:\n",
    "        x (numpy.ndarray): 입력 값\n",
    "    \n",
    "    Returns:\n",
    "        numpy.ndarray: ReLU 결과 값\n",
    "    \"\"\"\n",
    "    return np.maximum(0, x)\n",
    "\n",
    "# ReLU 함수 적용\n",
    "z1 = relu(a1)\n",
    "\n",
    "print(z1)"
   ]
  },
  {
   "cell_type": "markdown",
   "metadata": {},
   "source": [
    "### 딥러닝\n",
    "\n",
    "- 퍼셉트론의 **순전파** 과정\n",
    "- 딥러닝의 학습은 적절한 가중치와 편향을 찾아가는 것\n",
    "- 가중치와 편향을 가진 함수는 딥러닝에서 하나의 퍼셉트론으로 작용\n",
    "- 퍼셉트론은 입력값과 가중치의 곱을 계산하고, 편향을 더한 후 활성화 함수를 적용하여 출력을 생성하는 기본적인 신경망 구조"
   ]
  },
  {
   "cell_type": "markdown",
   "metadata": {},
   "source": []
  },
  {
   "cell_type": "markdown",
   "metadata": {},
   "source": [
    "### 활성화 함수(Activation)\n",
    "- ReLU\n",
    "- Sigmoid\n",
    "- Softmax"
   ]
  },
  {
   "cell_type": "code",
   "execution_count": 14,
   "metadata": {},
   "outputs": [
    {
     "name": "stdout",
     "output_type": "stream",
     "text": [
      "입력값: [-2 -1  0  1  2]\n",
      "Sigmoid 출력값: [0.11920292 0.26894142 0.5        0.73105858 0.88079708]\n"
     ]
    }
   ],
   "source": [
    "import numpy as np\n",
    "\n",
    "# Sigmoid 함수 정의\n",
    "def sigmoid(x):\n",
    "    \"\"\"\n",
    "    Sigmoid 함수: 입력값을 0과 1 사이로 변환합니다.\n",
    "    \n",
    "    Args:\n",
    "        x (numpy.ndarray or float): 입력 값\n",
    "    \n",
    "    Returns:\n",
    "        numpy.ndarray or float: Sigmoid 결과 값\n",
    "    \"\"\"\n",
    "    return 1 / (1 + np.exp(-x))\n",
    "\n",
    "# 입력값 예제\n",
    "inputs = np.array([-2, -1, 0, 1, 2])\n",
    "\n",
    "# Sigmoid 함수 적용\n",
    "outputs = sigmoid(inputs)\n",
    "\n",
    "print(\"입력값:\", inputs)\n",
    "print(\"Sigmoid 출력값:\", outputs)"
   ]
  }
 ],
 "metadata": {
  "kernelspec": {
   "display_name": "base",
   "language": "python",
   "name": "python3"
  },
  "language_info": {
   "codemirror_mode": {
    "name": "ipython",
    "version": 3
   },
   "file_extension": ".py",
   "mimetype": "text/x-python",
   "name": "python",
   "nbconvert_exporter": "python",
   "pygments_lexer": "ipython3",
   "version": "3.11.7"
  }
 },
 "nbformat": 4,
 "nbformat_minor": 2
}
