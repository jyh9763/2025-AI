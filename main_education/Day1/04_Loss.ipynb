{
 "cells": [
  {
   "cell_type": "markdown",
   "metadata": {},
   "source": [
    "# 딥러닝의 내비게이션: 손실 함수 (Loss Function) 알아보기\n",
    "\n",
    "이 노트북은 딥러닝 모델 학습의 핵심 개념인 **손실 함수**가 무엇인지 이해하고, 대표적인 손실 함수의 종류와 사용법을 코드로 확인하는 것을 목표로 합니다."
   ]
  },
  {
   "cell_type": "markdown",
   "metadata": {},
   "source": [
    "## 1. 손실 함수란 무엇일까요?\n",
    "\n",
    "**손실 함수**는 아주 간단하게 말해 **'모델의 예측이 정답과 얼마나 다른가?'**를 나타내는 **'오답 노트'** 또는 **'성적표'**와 같습니다.\n",
    "\n",
    "딥러닝 모델이 학습한다는 것은, 이 **'오답 노트의 점수(손실 값)'를 가능한 한 0에 가깝게 만들려고 노력하는 과정**입니다.\n",
    "\n",
    "1. 모델이 예측을 합니다. (예: 이 사진은 고양이야!)\n",
    "2. 손실 함수가 예측과 정답을 비교하여 '틀린 정도'를 숫자로 계산합니다. (예: 점수 85점! 많이 틀렸네!)\n",
    "3. 모델은 이 점수를 보고, 점수를 더 낮추기 위해 자신의 내부 규칙(가중치, 편향)을 스스로 수정합니다.\n",
    "4. 이 과정을 수없이 반복하며 '틀린 정도'를 최소화합니다.\n",
    "\n",
    "따라서 손실 함수는 모델이 어느 방향으로 나아가야 할지 알려주는 **내비게이션**과 같은 중요한 역할을 합니다."
   ]
  },
  {
   "cell_type": "code",
   "execution_count": null,
   "metadata": {},
   "outputs": [],
   "source": [
    "# 예제에 필요한 라이브러리 가져오기\n",
    "import numpy as np"
   ]
  },
  {
   "cell_type": "markdown",
   "metadata": {},
   "source": [
    "## 2. 손실 함수의 종류\n",
    "\n",
    "문제의 종류에 따라 사용하는 손실 함수가 다릅니다. 가장 대표적인 두 가지를 알아보겠습니다.\n",
    "\n",
    "### 2-1. 평균 제곱 오차 (Mean Squared Error, MSE)\n",
    "\n",
    "- **언제 사용하나요?**: **회귀(Regression)** 문제. 즉, 연속적인 숫자 값을 예측할 때 사용합니다. (예: 집값 예측, 주가 예측, 내일 온도 예측 등)\n",
    "- **어떻게 계산하나요?**: `(예측값 - 정답)²` 의 평균을 계산합니다.\n",
    "  - 오차를 제곱하기 때문에, 예측이 정답에서 멀어질수록 손실 값이 훨씬 더 커지는 특징이 있습니다. (큰 실수를 더 크게 꾸짖는 효과)"
   ]
  },
  {
   "cell_type": "code",
   "execution_count": null,
   "metadata": {},
   "outputs": [],
   "source": [
    "def mean_squared_error(y_pred, y_true):\n",
    "    \"\"\"평균 제곱 오차를 계산하는 함수\"\"\"\n",
    "    return np.mean((y_pred - y_true) ** 2)\n",
    "\n",
    "# --- 예제: 시험 점수 예측 ---\n",
    "# 정답 (실제 시험 점수)\n",
    "y_true = np.array([100, 85, 92])\n",
    "\n",
    "# 모델 A의 예측 (비교적 잘 맞춤)\n",
    "y_pred_A = np.array([98, 88, 90])\n",
    "\n",
    "# 모델 B의 예측 (많이 틀림)\n",
    "y_pred_B = np.array([70, 60, 95])\n",
    "\n",
    "loss_A = mean_squared_error(y_pred_A, y_true)\n",
    "loss_B = mean_squared_error(y_pred_B, y_true)\n",
    "\n",
    "print(f\"모델 A의 손실(오답 점수): {loss_A:.2f}\")\n",
    "print(f\"모델 B의 손실(오답 점수): {loss_B:.2f}\")\n",
    "print(\"\\n=> 손실 값이 작은 모델 A가 더 좋은 모델입니다.\")"
   ]
  },
  {
   "cell_type": "markdown",
   "metadata": {},
   "source": [
    "### 2-2. 교차 엔트로피 오차 (Cross-Entropy Error, CEE)\n",
    "\n",
    "- **언제 사용하나요?**: **분류(Classification)** 문제. 즉, 여러 개의 선택지 중 하나를 고르는 문제를 풀 때 사용합니다. (예: 이미지가 '개', '고양이', '새' 중 무엇인지 맞히기, 이메일이 '스팸'인지 '정상'인지 구분하기 등)\n",
    "- **어떻게 계산하나요?**: 모델이 예측한 **'확률'**과 **'실제 정답'** 사이의 차이를 계산합니다.\n",
    "  - 모델이 정답을 높은 확률로 예측하면 손실이 낮아지고, 낮은 확률로 예측하면(즉, 자신 없게 예측하거나 틀리면) 손실이 매우 커집니다.\n",
    "  - 특히, **정답인데 0에 가까운 확률로 예측하는 최악의 상황에 엄청난 벌점(penalty)을 부과**합니다."
   ]
  },
  {
   "cell_type": "code",
   "execution_count": null,
   "metadata": {},
   "outputs": [],
   "source": [
    "def cross_entropy_error(y_pred, y_true):\n",
    "    \"\"\"교차 엔트로피 오차를 계산하는 함수\"\"\"\n",
    "    # log(0)이 되는 것을 방지하기 위해 아주 작은 값을 더해줍니다.\n",
    "    delta = 1e-7 \n",
    "    return -np.sum(y_true * np.log(y_pred + delta))\n",
    "\n",
    "# --- 예제: 이미지 분류 (정답은 '개') ---\n",
    "# 정답: [개, 고양이, 새] -> 개가 정답이므로 [1, 0, 0]\n",
    "y_true = np.array([1, 0, 0])\n",
    "\n",
    "# 모델 A의 예측: '개'일 확률 70%, '고양이' 20%, '새' 10% (정답을 높은 확률로 예측)\n",
    "y_pred_A = np.array([0.7, 0.2, 0.1])\n",
    "\n",
    "# 모델 B의 예측: '개'일 확률 10%, '고양이' 80%, '새' 10% (정답을 낮은 확률로 예측)\n",
    "y_pred_B = np.array([0.1, 0.8, 0.1])\n",
    "\n",
    "loss_A = cross_entropy_error(y_pred_A, y_true)\n",
    "loss_B = cross_entropy_error(y_pred_B, y_true)\n",
    "\n",
    "print(f\"모델 A의 손실(오답 점수): {loss_A:.2f}\")\n",
    "print(f\"모델 B의 손실(오답 점수): {loss_B:.2f}\")\n",
    "print(\"\\n=> 정답일 확률을 높게 예측한 모델 A의 손실 값이 훨씬 낮습니다.\")"
   ]
  },
  {
   "cell_type": "markdown",
   "metadata": {},
   "source": [
    "## 3. 정리\n",
    "\n",
    "- **손실 함수**는 모델의 성능을 측정하는 **성적표**이다.\n",
    "- 딥러닝의 목표는 이 **손실 함수의 값을 최소화**하는 것이다.\n",
    "- **회귀(숫자 예측)** 문제에는 주로 **평균 제곱 오차(MSE)**를 사용한다.\n",
    "- **분류(정답 맞히기)** 문제에는 주로 **교차 엔트로피 오차(CEE)**를 사용한다."
   ]
  }
 ],
 "metadata": {
  "kernelspec": {
   "display_name": "Python 3",
   "language": "python",
   "name": "python3"
  },
  "language_info": {
   "codemirror_mode": {
    "name": "ipython",
    "version": 3
   },
   "file_extension": ".py",
   "mimetype": "text/x-python",
   "name": "python",
   "nbconvert_exporter": "python",
   "pygments_lexer": "ipython3",
   "version": "3.9.7"
  }
 },
 "nbformat": 4,
 "nbformat_minor": 4
}
