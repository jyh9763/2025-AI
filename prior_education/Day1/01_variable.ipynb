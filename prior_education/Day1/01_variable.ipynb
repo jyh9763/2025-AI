{
 "cells": [
  {
   "cell_type": "markdown",
   "metadata": {},
   "source": [
    "## 파이썬 변수(Variable) 완벽 정복\n",
    "\n",
    "### 1. 변수(Variable)란 무엇일까요?\n",
    "\n",
    "프로그래밍에서 **변수(variable)**는 **'데이터(값)를 저장하기 위한 메모리 공간에 붙인 이름'** 입니다.\n",
    "\n",
    "가장 쉬운 비유는 '이름표를 붙인 상자'입니다.\n",
    "- **값(데이터)**: 상자 안에 넣을 물건 (예: 숫자 10, 문자 \"안녕하세요\")\n",
    "- **변수**: 상자에 붙이는 이름표 (예: `num`, `greeting`)\n",
    "\n",
    "이렇게 이름표를 붙여두면, 나중에 이름표만 보고도 상자 안에 무엇이 들었는지 쉽게 알 수 있고, 필요할 때 이름표를 불러 상자 안의 물건을 꺼내 쓸 수 있습니다.\n"
   ]
  },
  {
   "cell_type": "code",
   "execution_count": 28,
   "metadata": {},
   "outputs": [
    {
     "name": "stdout",
     "output_type": "stream",
     "text": [
      "25 Alice\n"
     ]
    }
   ],
   "source": [
    "# age라는 이름의 변수에 25라는 정수 값을 저장(할당)합니다.\n",
    "age = 25\n",
    "\n",
    "# name이라는 이름의 변수에 \"Alice\"라는 문자열 값을 저장(할당)합니다.\n",
    "name = \"Alice\"\n",
    "\n",
    "print(age, name)"
   ]
  },
  {
   "cell_type": "markdown",
   "metadata": {},
   "source": [
    "### 2. 다중 할당 (Multiple Assignment)\n",
    "\n",
    "하나의 값을 여러 변수에 동시에 할당할 수 있습니다. 코드를 간결하게 만들 때 유용합니다.\n",
    "\n",
    "-   `x = y = z = 값` 형태로 사용하면 `x`, `y`, `z` 모두 동일한 값을 가지게 됩니다."
   ]
  },
  {
   "cell_type": "code",
   "execution_count": 23,
   "metadata": {},
   "outputs": [
    {
     "name": "stdout",
     "output_type": "stream",
     "text": [
      "x: 0\n",
      "y: 0\n",
      "z: 0\n"
     ]
    }
   ],
   "source": [
    "# 세 변수에 모두 0을 할당합니다.\n",
    "x = y = z = 0\n",
    "\n",
    "print(f\"x: {x}\")\n",
    "print(f\"y: {y}\")\n",
    "print(f\"z: {z}\")\n"
   ]
  },
  {
   "cell_type": "markdown",
   "metadata": {},
   "source": [
    "### 3. 언패킹 할당 (Unpacking Assignment)\n",
    "\n",
    "튜플(tuple), 리스트(list) 등 여러 개의 값을 담은 자료구조(iterable)의 각 요소를 여러 변수에 한 번에 나누어 할당할 수 있습니다. 이를 **'언패킹(unpacking)'**이라고 합니다.\n",
    "\n",
    "-   **주의**: 할당할 변수의 개수와 자료구조의 요소 개수가 정확히 일치해야 합니다. 그렇지 않으면 `ValueError`가 발생합니다."
   ]
  },
  {
   "cell_type": "code",
   "execution_count": 24,
   "metadata": {},
   "outputs": [
    {
     "name": "stdout",
     "output_type": "stream",
     "text": [
      "a: 1, b: 2, c: 3\n",
      "Name: Alice, Age: 25, City: New York\n"
     ]
    }
   ],
   "source": [
    "# 튜플 언패킹\n",
    "a, b, c = (1, 2, 3)\n",
    "print(f\"a: {a}, b: {b}, c: {c}\")\n",
    "\n",
    "# 리스트 언패킹\n",
    "name, age, city = [\"Alice\", 25, \"New York\"]\n",
    "print(f\"Name: {name}, Age: {age}, City: {city}\")\n",
    "\n",
    "# 아래 코드의 주석을 해제하고 실행하면 ValueError가 발생합니다.\n",
    "# (변수는 2개인데 값은 3개이므로)\n",
    "# x, y = (10, 20, 30)\n"
   ]
  },
  {
   "cell_type": "markdown",
   "metadata": {},
   "source": [
    "### 4. 재할당 (Reassignment)\n",
    "\n",
    "파이썬 변수는 한 번 값이 할당된 후에도 다른 값을 다시 할당할 수 있습니다. 심지어 다른 자료형(type)의 값으로도 변경할 수 있습니다. 이것이 파이썬이 **'동적 타이핑(Dynamically Typed)'** 언어라고 불리는 핵심적인 특징 중 하나입니다.\n"
   ]
  },
  {
   "cell_type": "code",
   "execution_count": 25,
   "metadata": {},
   "outputs": [
    {
     "name": "stdout",
     "output_type": "stream",
     "text": [
      "첫 할당 값: 100, 타입: <class 'int'>\n",
      "재할당 값: 200, 타입: <class 'int'>\n",
      "다른 타입 재할당 값: Hello, World!, 타입: <class 'str'>\n"
     ]
    }
   ],
   "source": [
    "my_var = 100\n",
    "print(f\"첫 할당 값: {my_var}, 타입: {type(my_var)}\")\n",
    "\n",
    "# 같은 타입(정수)의 다른 값으로 재할당\n",
    "my_var = 200\n",
    "print(f\"재할당 값: {my_var}, 타입: {type(my_var)}\")\n",
    "\n",
    "# 다른 타입(문자열)의 값으로 재할당\n",
    "my_var = \"Hello, World!\"\n",
    "print(f\"다른 타입 재할당 값: {my_var}, 타입: {type(my_var)}\")\n"
   ]
  },
  {
   "cell_type": "markdown",
   "metadata": {},
   "source": [
    "### 5. 증강 할당 (Augmented Assignment)\n",
    "\n",
    "기존 변수 값에 연산을 수행한 후 다시 그 변수에 할당하는 경우, 축약된 형태의 연산자를 사용할 수 있습니다.\n",
    "\n",
    "-   `x = x + 1`을 `x += 1`로 줄여 쓸 수 있습니다.\n",
    "-   코드가 간결해지고 가독성이 높아지며, 경우에 따라 연산 속도도 더 빠릅니다.\n",
    "-   `+=`, `-=`, `*=`, `/=` 등 다양한 산술 연산자에 적용할 수 있습니다.\n"
   ]
  },
  {
   "cell_type": "code",
   "execution_count": 26,
   "metadata": {},
   "outputs": [
    {
     "name": "stdout",
     "output_type": "stream",
     "text": [
      "초기값: 5\n",
      "count += 1  -> 6\n",
      "count *= 2  -> 12\n",
      "count -= 10 -> 2\n",
      "Hello, World!\n"
     ]
    }
   ],
   "source": [
    "count = 5\n",
    "print(f\"초기값: {count}\")\n",
    "\n",
    "# count = count + 1 과 동일\n",
    "count += 1\n",
    "print(f\"count += 1  -> {count}\")\n",
    "\n",
    "# count = count * 2 와 동일\n",
    "count *= 2\n",
    "print(f\"count *= 2  -> {count}\")\n",
    "\n",
    "# count = count - 10 과 동일\n",
    "count -= 10\n",
    "print(f\"count -= 10 -> {count}\")\n",
    "\n",
    "# 문자열에도 증강 할당을 사용할 수 있습니다.\n",
    "greeting = \"Hello\"\n",
    "greeting += \", World!\" # greeting = greeting + \", World!\"\n",
    "print(greeting)\n"
   ]
  },
  {
   "cell_type": "markdown",
   "metadata": {},
   "source": [
    "## 2. 파이썬 변수 이름 규칙 (Naming Conventions)\n",
    "\n",
    "변수 이름을 아무렇게나 지을 수는 없습니다. 파이썬이 이해할 수 있도록 다음과 같은 규칙을 지켜야 하며, 이를 지키지 않으면 오류가 발생합니다. 또한, 다른 개발자와의 협업과 코드 가독성을 위해 널리 사용되는 스타일 가이드(관례)를 따르는 것이 좋습니다.\n",
    "\n",
    "---\n",
    "\n",
    "### 꼭 지켜야 할 규칙 (문법 오류 방지)\n",
    "\n",
    "#### 1. 사용 가능한 문자\n",
    "변수 이름은 **영문 알파벳(a-z, A-Z)**, **숫자(0-9)**, 그리고 **언더스코어(\\_)**만 포함할 수 있습니다. 공백이나 하이픈(-), 특수문자(!, @, #, $ 등)는 사용할 수 없습니다.\n",
    "\n",
    "**올바른 예시 (코드 셀에 복사하여 실행해 보세요):**\n"
   ]
  },
  {
   "cell_type": "code",
   "execution_count": 14,
   "metadata": {},
   "outputs": [
    {
     "name": "stdout",
     "output_type": "stream",
     "text": [
      "10\n",
      "John\n",
      "True\n"
     ]
    }
   ],
   "source": [
    "# 올바른 예\n",
    "my_variable = 10\n",
    "user1 = \"John\"\n",
    "_internal_data = True\n",
    "\n",
    "print(my_variable)\n",
    "print(user1)\n",
    "print(_internal_data)\n"
   ]
  },
  {
   "cell_type": "markdown",
   "metadata": {},
   "source": [
    "#### 2. 시작 문자\n",
    "변수 이름은 반드시 **알파벳**이나 **언더스코어(\\_)**로 시작해야 합니다. **숫자로 시작할 수 없습니다.**"
   ]
  },
  {
   "cell_type": "code",
   "execution_count": 15,
   "metadata": {},
   "outputs": [
    {
     "name": "stdout",
     "output_type": "stream",
     "text": [
      "25\n",
      "Alice\n"
     ]
    }
   ],
   "source": [
    "# 올바른 예\n",
    "age = 25\n",
    "_name = \"Alice\"\n",
    "\n",
    "print(age)\n",
    "print(_name)\n"
   ]
  },
  {
   "cell_type": "markdown",
   "metadata": {},
   "source": [
    "#### 3. 대소문자 구분\n",
    "파이썬은 대소문자를 엄격하게 구분합니다. 예를 들어, `age`, `Age`, `AGE`는 모두 서로 다른 세 개의 변수로 인식됩니다.\n"
   ]
  },
  {
   "cell_type": "code",
   "execution_count": 17,
   "metadata": {},
   "outputs": [
    {
     "name": "stdout",
     "output_type": "stream",
     "text": [
      "age: 20\n",
      "Age: 30\n",
      "AGE: 40\n"
     ]
    }
   ],
   "source": [
    "age = 20\n",
    "Age = 30\n",
    "AGE = 40\n",
    "\n",
    "# 세 변수는 모두 다른 값을 가집니다.\n",
    "print(f\"age: {age}\")\n",
    "print(f\"Age: {Age}\")\n",
    "print(f\"AGE: {AGE}\")"
   ]
  },
  {
   "cell_type": "markdown",
   "metadata": {},
   "source": [
    "#### 4. 예약어(Reserved Words) 사용 금지\n",
    "파이썬에서 특별한 문법적 기능을 수행하는 단어들(예: `if`, `for`, `while`, `class`, `def` 등)은 변수 이름으로 사용할 수 없습니다.\n",
    "\n",
    "아래 코드를 실행하여 파이썬의 모든 예약어를 확인할 수 있습니다.\n"
   ]
  },
  {
   "cell_type": "code",
   "execution_count": 19,
   "metadata": {},
   "outputs": [
    {
     "name": "stdout",
     "output_type": "stream",
     "text": [
      "['False', 'None', 'True', 'and', 'as', 'assert', 'async', 'await', 'break', 'class', 'continue', 'def', 'del', 'elif', 'else', 'except', 'finally', 'for', 'from', 'global', 'if', 'import', 'in', 'is', 'lambda', 'nonlocal', 'not', 'or', 'pass', 'raise', 'return', 'try', 'while', 'with', 'yield']\n"
     ]
    }
   ],
   "source": [
    "import keyword\n",
    "print(keyword.kwlist)"
   ]
  },
  {
   "cell_type": "markdown",
   "metadata": {},
   "source": [
    "## 3. Python 데이터 타입 (Data Types) 완벽 정복\n",
    "\n",
    "프로그래밍에서 데이터 타입은 변수가 저장할 수 있는 데이터의 종류를 의미합니다. Python은 동적 타이핑(Dynamic Typing) 언어이므로 변수를 선언할 때 타입을 명시할 필요가 없지만, 각 데이터 타입의 특징을 이해하는 것은 매우 중요합니다.\n",
    "\n",
    "이 노트북에서는 Python의 핵심 데이터 타입을 하나씩 살펴보겠습니다."
   ]
  },
  {
   "cell_type": "markdown",
   "metadata": {},
   "source": [
    "### type() 함수로 데이터 타입 확인하기\n",
    "\n",
    "변수의 데이터 타입을 확인하려면 type() 내장 함수를 사용합니다."
   ]
  },
  {
   "cell_type": "code",
   "execution_count": 29,
   "metadata": {},
   "outputs": [
    {
     "name": "stdout",
     "output_type": "stream",
     "text": [
      "'a'의 값: 123, 타입: <class 'int'>\n",
      "'b'의 값: Hello, Python!, 타입: <class 'str'>\n"
     ]
    }
   ],
   "source": [
    "a = 123\n",
    "print(f\"'a'의 값: {a}, 타입: {type(a)}\")\n",
    "\n",
    "b = \"Hello, Python!\"\n",
    "print(f\"'b'의 값: {b}, 타입: {type(b)}\")\n"
   ]
  },
  {
   "cell_type": "markdown",
   "metadata": {},
   "source": [
    "### 1. int (정수)\n",
    "소수점이 없는 숫자를 의미합니다. 양수, 음수, 0을 포함합니다."
   ]
  },
  {
   "cell_type": "code",
   "execution_count": 30,
   "metadata": {},
   "outputs": [
    {
     "name": "stdout",
     "output_type": "stream",
     "text": [
      "my_int: 100, type: <class 'int'>\n",
      "10 + 3 = 13\n",
      "10 // 3 = 3 (몫)\n",
      "10 % 3 = 1 (나머지)\n",
      "10 ** 3 = 1000 (거듭제곱)\n"
     ]
    }
   ],
   "source": [
    "# 정수형 변수 생성\n",
    "my_int = 100\n",
    "negative_int = -50\n",
    "zero = 0\n",
    "\n",
    "print(f\"my_int: {my_int}, type: {type(my_int)}\")\n",
    "\n",
    "# 정수형 간의 연산\n",
    "a = 10\n",
    "b = 3\n",
    "print(f\"{a} + {b} = {a + b}\")\n",
    "print(f\"{a} // {b} = {a // b} (몫)\")\n",
    "print(f\"{a} % {b} = {a % b} (나머지)\")\n",
    "print(f\"{a} ** {b} = {a ** b} (거듭제곱)\")\n"
   ]
  },
  {
   "cell_type": "markdown",
   "metadata": {},
   "source": [
    "### 2. float (실수)\n",
    "소수점이 있는 숫자를 의미합니다."
   ]
  },
  {
   "cell_type": "code",
   "execution_count": 31,
   "metadata": {},
   "outputs": [
    {
     "name": "stdout",
     "output_type": "stream",
     "text": [
      "my_float: 3.14, type: <class 'float'>\n",
      "scientific_notation: 0.0314\n",
      "10 / 3.0 = 3.3333333333333335, type: <class 'float'>\n"
     ]
    }
   ],
   "source": [
    "# 실수형 변수 생성\n",
    "my_float = 3.14\n",
    "negative_float = -1.23\n",
    "scientific_notation = 3.14e-2 # 3.14 * 10^(-2)\n",
    "\n",
    "print(f\"my_float: {my_float}, type: {type(my_float)}\")\n",
    "print(f\"scientific_notation: {scientific_notation}\")\n",
    "\n",
    "# 정수와 실수의 연산 결과는 실수가 됩니다.\n",
    "a = 10\n",
    "b = 3.0\n",
    "print(f\"{a} / {b} = {a / b}, type: {type(a / b)}\")\n"
   ]
  },
  {
   "cell_type": "markdown",
   "metadata": {},
   "source": [
    "### 3. list (리스트)\n",
    "다양한 타입의 데이터를 순서대로 저장하는 자료구조입니다. 대괄호([])로 감싸서 만듭니다.\n",
    "\n",
    "가변(Mutable): 생성된 후에도 원소를 추가, 삭제, 수정할 수 있습니다."
   ]
  },
  {
   "cell_type": "code",
   "execution_count": 32,
   "metadata": {},
   "outputs": [
    {
     "name": "stdout",
     "output_type": "stream",
     "text": [
      "my_list: [1, 'apple', 3.14, True, [10, 20]]\n",
      "my_list[1]: apple\n",
      "my_list[2:4]: [3.14, True]\n",
      "수정 후 my_list: [1, 'banana', 3.14, True, [10, 20]]\n",
      "append 후: [1, 'banana', 3.14, True, [10, 20], 'new_item']\n",
      "pop 후: [1, 'banana', 3.14, True, [10, 20]]\n",
      "꺼낸 원소: new_item\n"
     ]
    }
   ],
   "source": [
    "# 리스트 생성\n",
    "my_list = [1, \"apple\", 3.14, True, [10, 20]]\n",
    "\n",
    "print(f\"my_list: {my_list}\")\n",
    "\n",
    "# 인덱싱과 슬라이싱\n",
    "print(f\"my_list[1]: {my_list[1]}\")\n",
    "print(f\"my_list[2:4]: {my_list[2:4]}\")\n",
    "\n",
    "# 리스트 수정 (가변)\n",
    "my_list[1] = \"banana\"\n",
    "print(f\"수정 후 my_list: {my_list}\")\n",
    "\n",
    "# 리스트 메서드\n",
    "my_list.append(\"new_item\") # 맨 뒤에 원소 추가\n",
    "print(f\"append 후: {my_list}\")\n",
    "\n",
    "popped_item = my_list.pop() # 맨 뒤 원소 꺼내기\n",
    "print(f\"pop 후: {my_list}\")\n",
    "print(f\"꺼낸 원소: {popped_item}\")\n"
   ]
  },
  {
   "cell_type": "markdown",
   "metadata": {},
   "source": [
    "### 4. tuple (튜플)\n",
    "리스트와 거의 동일하지만, 한 번 생성되면 내용을 변경할 수 없습니다. 소괄호(())로 감싸서 만듭니다.\n",
    "\n",
    "불변(Immutable): 생성된 후 내용을 변경할 수 없습니다."
   ]
  },
  {
   "cell_type": "code",
   "execution_count": 33,
   "metadata": {},
   "outputs": [
    {
     "name": "stdout",
     "output_type": "stream",
     "text": [
      "my_tuple: (1, 'apple', 3.14, True)\n",
      "my_tuple[1]: apple\n"
     ]
    }
   ],
   "source": [
    "# 튜플 생성\n",
    "my_tuple = (1, \"apple\", 3.14, True)\n",
    "print(f\"my_tuple: {my_tuple}\")\n",
    "\n",
    "# 인덱싱과 슬라이싱 (리스트와 동일)\n",
    "print(f\"my_tuple[1]: {my_tuple[1]}\")\n",
    "\n",
    "# 튜플은 수정 불가 (아래 코드의 주석을 풀고 실행하면 에러 발생)\n",
    "# my_tuple[1] = \"banana\" # TypeError: 'tuple' object does not support item assignment\n"
   ]
  },
  {
   "cell_type": "markdown",
   "metadata": {},
   "source": [
    "### 5. bool (불)\n",
    "True(참) 또는 False(거짓) 두 가지 값만 가집니다. 주로 조건문이나 반복문에서 논리적인 판단을 위해 사용됩니다."
   ]
  },
  {
   "cell_type": "code",
   "execution_count": 34,
   "metadata": {},
   "outputs": [
    {
     "name": "stdout",
     "output_type": "stream",
     "text": [
      "is_true: True, type: <class 'bool'>\n",
      "10 > 5: True\n",
      "'a' == 'b': False\n",
      "0은 Falsy 입니다.\n",
      "'hello'는 Truthy 입니다.\n"
     ]
    }
   ],
   "source": [
    "is_true = True\n",
    "is_false = False\n",
    "\n",
    "print(f\"is_true: {is_true}, type: {type(is_true)}\")\n",
    "\n",
    "# 비교 연산의 결과는 bool 입니다.\n",
    "print(f\"10 > 5: {10 > 5}\")\n",
    "print(f\"'a' == 'b': {'a' == 'b'}\")\n",
    "\n",
    "# bool 값으로 평가되는 'Truthy'와 'Falsy'\n",
    "# Falsy: False, 0, 0.0, \"\", [], (), {}, None\n",
    "# Truthy: Falsy를 제외한 모든 값\n",
    "\n",
    "if 0:\n",
    "    print(\"0은 Truthy 입니다.\")\n",
    "else:\n",
    "    print(\"0은 Falsy 입니다.\")\n",
    "\n",
    "if \"hello\":\n",
    "    print(\"'hello'는 Truthy 입니다.\")\n",
    "else:\n",
    "    print(\"'hello'는 Falsy 입니다.\")\n"
   ]
  },
  {
   "cell_type": "markdown",
   "metadata": {},
   "source": [
    "### 6. None 타입\n",
    "'값이 없음'을 나타내는 특별한 값입니다. 변수가 아직 아무런 값도 가리키고 있지 않다는 것을 명시적으로 표현할 때 사용됩니다."
   ]
  },
  {
   "cell_type": "code",
   "execution_count": 35,
   "metadata": {},
   "outputs": [
    {
     "name": "stdout",
     "output_type": "stream",
     "text": [
      "my_variable: None, type: <class 'NoneType'>\n",
      "이 함수는 아무것도 반환하지 않습니다.\n",
      "함수의 반환값: None\n"
     ]
    }
   ],
   "source": [
    "my_variable = None\n",
    "print(f\"my_variable: {my_variable}, type: {type(my_variable)}\")\n",
    "\n",
    "def no_return_function():\n",
    "    print(\"이 함수는 아무것도 반환하지 않습니다.\")\n",
    "\n",
    "result = no_return_function()\n",
    "print(f\"함수의 반환값: {result}\")\n"
   ]
  },
  {
   "cell_type": "markdown",
   "metadata": {},
   "source": []
  }
 ],
 "metadata": {
  "kernelspec": {
   "display_name": "Python 3",
   "language": "python",
   "name": "python3"
  },
  "language_info": {
   "codemirror_mode": {
    "name": "ipython",
    "version": 3
   },
   "file_extension": ".py",
   "mimetype": "text/x-python",
   "name": "python",
   "nbconvert_exporter": "python",
   "pygments_lexer": "ipython3",
   "version": "3.11.7"
  }
 },
 "nbformat": 4,
 "nbformat_minor": 2
}
