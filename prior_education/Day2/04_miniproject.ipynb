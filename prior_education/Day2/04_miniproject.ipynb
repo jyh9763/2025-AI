{
 "cells": [
  {
   "cell_type": "code",
   "execution_count": 1,
   "metadata": {},
   "outputs": [],
   "source": [
    "import numpy as np"
   ]
  },
  {
   "cell_type": "code",
   "execution_count": 53,
   "metadata": {},
   "outputs": [],
   "source": [
    "# 배열 요소: 걸음 수, 칼로리, 수면 시간, 물 섭취량\n",
    "# 7일치 기록\n",
    "data = np.array([\n",
    "    [5500, 1800, 7, 2000],\n",
    "    [5000, 2000, 6, 3000],\n",
    "    [3200, 1500, 8, 1400],\n",
    "    [4300, 1900, 7, 2000],\n",
    "    [4100, 1700, 6, 1550],\n",
    "    [3400, 2100, 7, 2000],\n",
    "    [10600, 2200, 7, 3000]\n",
    "])\n",
    "\n",
    "# 각 인덱스의 요일\n",
    "day = np.array(['월', '화', '수', '목', '금', '토', '일'])"
   ]
  },
  {
   "cell_type": "code",
   "execution_count": 26,
   "metadata": {},
   "outputs": [
    {
     "name": "stdout",
     "output_type": "stream",
     "text": [
      "======= 주간 리포트 =======\n",
      "항목              합계       평균       최대       최소\n",
      "걸음 수           36100      5157     10600      3200\n",
      "칼로리            13200      1885      2200      1500\n",
      "수면 시간            48         6         8         6\n",
      "물 섭취량         14950      2135      3000      1400\n"
     ]
    }
   ],
   "source": [
    "# 주간 리포트 출력\n",
    "totalwalk = np.sum(data[:, 0])   # 총 걸음 수\n",
    "totalcaloie = np.sum(data[:, 1]) # 총 칼로리\n",
    "totalsleep = np.sum(data[:, 2])  # 총 수면 시간\n",
    "totalwater = np.sum(data[:, 3])  # 총 물 섭취량\n",
    "\n",
    "# 주간 평균 계산\n",
    "print(\"======= 주간 리포트 =======\")\n",
    "print(f\"{'항목':<9}{'합계':>9}{'평균':>9}{'최대':>9}{'최소':>9}\")\n",
    "print(f\"{'걸음 수':<10}{totalwalk:>10}{totalwalk // data.shape[0]:>10}{np.max(data[:, 0]):>10}{np.min(data[:, 0]):>10}\")\n",
    "print(f\"{'칼로리':<10}{totalcaloie:>10}{totalcaloie // data.shape[0]:>10}{np.max(data[:, 1]):>10}{np.min(data[:, 1]):>10}\")\n",
    "print(f\"{'수면 시간':<9}{totalsleep:>10}{totalsleep // data.shape[0]:>10}{np.max(data[:, 2]):>10}{np.min(data[:, 2]):>10}\")\n",
    "print(f\"{'물 섭취량':<9}{totalwater:>10}{totalwater // data.shape[0]:>10}{np.max(data[:, 3]):>10}{np.min(data[:, 3]):>10}\")"
   ]
  },
  {
   "cell_type": "code",
   "execution_count": 52,
   "metadata": {},
   "outputs": [
    {
     "name": "stdout",
     "output_type": "stream",
     "text": [
      "\n",
      "======= 조건 필터 결과 =======\n",
      "8시간 이상 수면: 수\n",
      "만 보 이상 걷기: 일\n",
      "물 섭취량 1500ml 미만: 수\n"
     ]
    }
   ],
   "source": [
    "# 조건 필터 결과\n",
    "print(\"\\n======= 조건 필터 결과 =======\")\n",
    "# sleep >= 8인 날의 요일\n",
    "sleep = [day[i] for i in range(data.shape[0]) if data[i, 2] >= 8]\n",
    "print(f\"8시간 이상 수면: {', '.join(sleep)}\")\n",
    "\n",
    "# steps >= 10000인 날의 요일\n",
    "steps = [day[i] for i in range(data.shape[0]) if data[i, 0] >= 10000]\n",
    "print(f\"만 보 이상 걷기: {', '.join(steps)}\")\n",
    "\n",
    "# water < 1500인 날의 요일\n",
    "water = [day[i] for i in range(data.shape[0]) if data[i, 3] < 1500]\n",
    "print(f\"물 섭취량 1500ml 미만: {', '.join(water)}\")"
   ]
  },
  {
   "cell_type": "code",
   "execution_count": 51,
   "metadata": {},
   "outputs": [
    {
     "name": "stdout",
     "output_type": "stream",
     "text": [
      "\n",
      "걸음 수 랭킹 상위 3일: 일, 월, 화\n",
      "\n",
      "======= 걸음 수 등급 =======\n",
      "월: 5500 걸음 - Mid\n",
      "화: 5000 걸음 - Mid\n",
      "수: 3200 걸음 - Low\n",
      "목: 4300 걸음 - Low\n",
      "금: 4100 걸음 - Low\n",
      "토: 3400 걸음 - Low\n",
      "일: 10600 걸음 - High\n"
     ]
    }
   ],
   "source": [
    "# 걸음 수 랭킹 상위 3일\n",
    "ranking = [days[i] for i in rank_walk.argsort()[::-1][:3]]\n",
    "print(f\"\\n걸음 수 랭킹 상위 3일: {', '.join(ranking_days)}\")\n",
    "\n",
    "# 걸음 수 등급 출력\n",
    "print(\"\\n======= 걸음 수 등급 =======\")\n",
    "for i in range(data.shape[0]):\n",
    "    if data[i, 0] >= 8000:\n",
    "        grade = \"High\"\n",
    "    elif data[i, 0] >= 5000:\n",
    "        grade = \"Mid\"\n",
    "    else:\n",
    "        grade = \"Low\"\n",
    "    print(f\"{day[i]}: {data[i, 0]} 걸음 - {grade}\")"
   ]
  },
  {
   "cell_type": "code",
   "execution_count": null,
   "metadata": {},
   "outputs": [],
   "source": []
  }
 ],
 "metadata": {
  "kernelspec": {
   "display_name": "base",
   "language": "python",
   "name": "python3"
  },
  "language_info": {
   "codemirror_mode": {
    "name": "ipython",
    "version": 3
   },
   "file_extension": ".py",
   "mimetype": "text/x-python",
   "name": "python",
   "nbconvert_exporter": "python",
   "pygments_lexer": "ipython3",
   "version": "3.11.7"
  }
 },
 "nbformat": 4,
 "nbformat_minor": 2
}
