{
 "cells": [
  {
   "cell_type": "markdown",
   "metadata": {},
   "source": [
    "# 파이썬 리스트(List) 자료구조\n",
    "\n",
    "리스트는 여러 개의 값을 하나의 변수에 순서대로 저장하기 위해 사용하는 자료구조입니다. \n",
    "\n",
    "**리스트의 특징:**\n",
    "- **순서(Ordered):** 데이터가 저장된 순서를 유지합니다.\n",
    "- **수정 가능(Mutable):** 생성된 후에도 아이템을 추가, 수정, 삭제할 수 있습니다.\n",
    "- **중복 허용(Allows Duplicates):** 동일한 값을 여러 번 저장할 수 있습니다.\n",
    "- **다양한 자료형:** 숫자, 문자열, 불리언 등 여러 종류의 데이터를 함께 저장할 수 있습니다."
   ]
  },
  {
   "cell_type": "markdown",
   "metadata": {},
   "source": [
    "## 1. 리스트 생성\n",
    "\n",
    "대괄호 `[]`를 사용하거나 `list()` 생성자를 사용하여 리스트를 만들 수 있습니다."
   ]
  },
  {
   "cell_type": "code",
   "execution_count": null,
   "metadata": {},
   "outputs": [],
   "source": [
    "# 비어있는 리스트 생성\n",
    "empty_list1 = []\n",
    "empty_list2 = list()\n",
    "print(f\"비어있는 리스트 1: {empty_list1}\")\n",
    "print(f\"비어있는 리스트 2: {empty_list2}\")\n",
    "\n",
    "# 초기값을 가진 리스트 생성\n",
    "fruits = ['apple', 'banana', 'cherry']\n",
    "numbers = [1, 2, 3, 4, 5]\n",
    "mixed_list = [1, 'hello', True, 3.14] # 다양한 자료형을 함께 저장\n",
    "\n",
    "print(f\"과일 리스트: {fruits}\")\n",
    "print(f\"숫자 리스트: {numbers}\")\n",
    "print(f\"혼합 리스트: {mixed_list}\")"
   ]
  },
  {
   "cell_type": "markdown",
   "metadata": {},
   "source": [
    "## 2. 리스트 아이템 접근 (Indexing & Slicing)\n",
    "\n",
    "리스트의 각 아이템은 '인덱스(index)'라는 고유한 번호를 가집니다. 인덱스는 0부터 시작합니다. 인덱스를 사용하여 특정 위치의 아이템에 접근할 수 있습니다.\n",
    "\n",
    "- **인덱싱(Indexing):** `리스트[인덱스]` 형태로 특정 위치의 아이템 하나를 가져옵니다. 음수 인덱스는 뒤에서부터 접근합니다. (-1은 마지막 아이템)\n",
    "- **슬라이싱(Slicing):** `리스트[시작:끝]` 형태로 특정 범위의 아이템들을 새로운 리스트로 가져옵니다. '끝' 인덱스는 포함되지 않습니다."
   ]
  },
  {
   "cell_type": "code",
   "execution_count": null,
   "metadata": {},
   "outputs": [],
   "source": [
    "fruits = ['apple', 'banana', 'cherry', 'orange', 'grape']\n",
    "\n",
    "# 인덱싱\n",
    "print(f\"첫 번째 과일: {fruits[0]}\")\n",
    "print(f\"세 번째 과일: {fruits[2]}\")\n",
    "print(f\"마지막 과일: {fruits[-1]}\")\n",
    "\n",
    "# 슬라이싱\n",
    "print(f\"인덱스 1부터 3까지: {fruits[1:4]}\") # 인덱스 1, 2, 3 아이템\n",
    "print(f\"처음부터 인덱스 2까지: {fruits[:3]}\") # 인덱스 0, 1, 2 아이템\n",
    "print(f\"인덱스 2부터 끝까지: {fruits[2:]}\")"
   ]
  },
  {
   "cell_type": "markdown",
   "metadata": {},
   "source": [
    "## 3. 리스트 아이템 추가\n",
    "\n",
    "- `append(아이템)`: 리스트의 맨 끝에 새로운 아이템을 추가합니다.\n",
    "- `insert(인덱스, 아이템)`: 지정된 인덱스 위치에 새로운 아이템을 삽입합니다."
   ]
  },
  {
   "cell_type": "code",
   "execution_count": null,
   "metadata": {},
   "outputs": [],
   "source": [
    "fruits = ['apple', 'banana']\n",
    "print(f\"추가 전: {fruits}\")\n",
    "\n",
    "# append로 아이템 추가\n",
    "fruits.append('cherry')\n",
    "print(f\"append 후: {fruits}\")\n",
    "\n",
    "# insert로 아이템 삽입\n",
    "fruits.insert(1, 'orange') # 인덱스 1 위치에 'orange' 삽입\n",
    "print(f\"insert 후: {fruits}\")"
   ]
  },
  {
   "cell_type": "markdown",
   "metadata": {},
   "source": [
    "## 4. 리스트 아이템 삭제\n",
    "\n",
    "- `del 리스트[인덱스]`: 특정 인덱스의 아이템을 삭제합니다.\n",
    "- `pop(인덱스)`: 특정 인덱스의 아이템을 리스트에서 빼내고, 그 값을 반환합니다. 인덱스를 생략하면 마지막 아이템을 빼냅니다.\n",
    "- `remove(값)`: 리스트에서 특정 값을 가진 첫 번째 아이템을 삭제합니다."
   ]
  },
  {
   "cell_type": "code",
   "execution_count": null,
   "metadata": {},
   "outputs": [],
   "source": [
    "fruits = ['apple', 'orange', 'banana', 'cherry', 'banana']\n",
    "print(f\"삭제 전: {fruits}\")\n",
    "\n",
    "# del로 삭제\n",
    "del fruits[1] # 인덱스 1의 'orange' 삭제\n",
    "print(f\"del 후: {fruits}\")\n",
    "\n",
    "# pop으로 삭제\n",
    "popped_fruit = fruits.pop(2) # 인덱스 2의 'cherry'를 빼냄\n",
    "print(f\"pop으로 빼낸 과일: {popped_fruit}\")\n",
    "print(f\"pop 후: {fruits}\")\n",
    "\n",
    "# remove로 삭제\n",
    "fruits.remove('banana') # 첫 번째로 발견되는 'banana' 삭제\n",
    "print(f\"remove 후: {fruits}\")"
   ]
  },
  {
   "cell_type": "markdown",
   "metadata": {},
   "source": [
    "## 5. 리스트 정렬\n",
    "\n",
    "- `sort()`: 리스트 자체를 오름차순으로 정렬합니다. (원본 리스트 변경)\n",
    "- `sorted()`: 정렬된 새로운 리스트를 반환합니다. (원본 리스트 유지)\n",
    "\n",
    "두 방법 모두 `reverse=True` 옵션을 주면 내림차순으로 정렬할 수 있습니다."
   ]
  },
  {
   "cell_type": "code",
   "execution_count": null,
   "metadata": {},
   "outputs": [],
   "source": [
    "# sort() 메서드 (원본 변경)\n",
    "numbers = [4, 1, 8, 3, 5]\n",
    "print(f\"정렬 전: {numbers}\")\n",
    "numbers.sort() # 오름차순 정렬\n",
    "print(f\"오름차순 정렬 후: {numbers}\")\n",
    "numbers.sort(reverse=True) # 내림차순 정렬\n",
    "print(f\"내림차순 정렬 후: {numbers}\")\n",
    "\n",
    "# sorted() 함수 (원본 유지)\n",
    "letters = ['c', 'a', 'b', 'e', 'd']\n",
    "print(f\"\\n원본 리스트: {letters}\")\n",
    "sorted_letters = sorted(letters)\n",
    "print(f\"sorted() 적용 후 원본 리스트: {letters}\")\n",
    "print(f\"새로 생성된 정렬 리스트: {sorted_letters}\")"
   ]
  },
  {
   "cell_type": "markdown",
   "metadata": {},
   "source": [
    "## 6. 기타 유용한 리스트 함수/메서드\n",
    "\n",
    "- `len(리스트)`: 리스트의 길이(아이템의 개수)를 반환합니다.\n",
    "- `count(값)`: 리스트에서 특정 값이 몇 개 있는지 개수를 셉니다.\n",
    "- `index(값)`: 특정 값의 첫 번째 인덱스를 찾아서 반환합니다. 값이 없으면 오류가 발생합니다.\n",
    "- `clear()`: 리스트의 모든 아이템을 삭제하여 빈 리스트로 만듭니다."
   ]
  },
  {
   "cell_type": "code",
   "execution_count": null,
   "metadata": {},
   "outputs": [],
   "source": [
    "numbers = [1, 2, 3, 1, 4, 1, 5, 1]\n",
    "\n",
    "# 리스트 길이\n",
    "print(f\"리스트의 길이: {len(numbers)}\")\n",
    "\n",
    "# 아이템 개수 세기\n",
    "print(f\"숫자 1의 개수: {numbers.count(1)}\")\n",
    "\n",
    "# 아이템 위치 찾기\n",
    "print(f\"숫자 4의 위치: {numbers.index(4)}\")\n",
    "\n",
    "# 모든 아이템 삭제\n",
    "print(f\"clear() 전: {numbers}\")\n",
    "numbers.clear()\n",
    "print(f\"clear() 후: {numbers}\")"
   ]
  },
  {
   "cell_type": "code",
   "execution_count": null,
   "metadata": {},
   "outputs": [],
   "source": []
  }
 ],
 "metadata": {
  "kernelspec": {
   "display_name": "Python 3",
   "language": "python",
   "name": "python3"
  },
  "language_info": {
   "codemirror_mode": {
    "name": "ipython",
    "version": 3
   },
   "file_extension": ".py",
   "mimetype": "text/x-python",
   "name": "python",
   "nbconvert_exporter": "python",
   "pygments_lexer": "ipython3",
   "version": "3.11.7"
  }
 },
 "nbformat": 4,
 "nbformat_minor": 4
}
