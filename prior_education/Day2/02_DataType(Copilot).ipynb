{
 "cells": [
  {
   "cell_type": "markdown",
   "metadata": {},
   "source": [
    "# Python 자료구조: List, Tuple, Dictionary, Set\n",
    "\n",
    "## 1. List\n",
    "- **정의**: Python의 `list`는 순서가 있는 변경 가능한(mutable) 자료구조입니다. 다양한 데이터 타입을 포함할 수 있습니다.\n",
    "- **특징**:\n",
    "  - 순서가 있음 (Indexing 가능)\n",
    "  - 중복 허용\n",
    "  - 변경 가능 (Mutable)\n",
    "\n",
    "**주요 함수 및 설명**:\n",
    "- `append(x)`: 리스트의 끝에 요소 `x`를 추가합니다.\n",
    "- `remove(x)`: 리스트에서 첫 번째로 나오는 요소 `x`를 삭제합니다.\n",
    "- `pop([i])`: 지정된 인덱스 `i`의 요소를 제거하고 반환합니다. 인덱스를 지정하지 않으면 마지막 요소를 제거합니다.\n",
    "- `len(list)`: 리스트의 길이를 반환합니다.\n",
    "- `list[index]`: 인덱스를 사용하여 요소를 선택합니다."
   ]
  },
  {
   "cell_type": "code",
   "execution_count": null,
   "metadata": {},
   "outputs": [],
   "source": [
    "# 생성\n",
    "my_list = [1, 2, 3, 4]\n",
    "\n",
    "# 추가\n",
    "my_list.append(5)  # [1, 2, 3, 4, 5]\n",
    "\n",
    "# 삭제\n",
    "my_list.remove(2)  # [1, 3, 4, 5]\n",
    "\n",
    "# 원소 선택\n",
    "element = my_list[1]  # 3\n",
    "\n",
    "# 함수\n",
    "length = len(my_list)  # 리스트 길이 반환\n",
    "print(my_list, element, length)"
   ]
  },
  {
   "cell_type": "markdown",
   "metadata": {},
   "source": [
    "## 2. Tuple\n",
    "- **정의**: Python의 `tuple`은 순서가 있는 변경 불가능한(immutable) 자료구조입니다.\n",
    "- **특징**:\n",
    "  - 순서가 있음 (Indexing 가능)\n",
    "  - 중복 허용\n",
    "  - 변경 불가능 (Immutable)\n",
    "\n",
    "**주요 함수 및 설명**:\n",
    "- `len(tuple)`: 튜플의 길이를 반환합니다.\n",
    "- `tuple[index]`: 인덱스를 사용하여 요소를 선택합니다.\n",
    "- 튜플은 변경 불가능하므로 요소를 추가하거나 삭제할 수 없습니다."
   ]
  },
  {
   "cell_type": "code",
   "execution_count": null,
   "metadata": {},
   "outputs": [],
   "source": [
    "# 생성\n",
    "my_tuple = (1, 2, 3, 4)\n",
    "\n",
    "# 추가 (불가능, 새로운 튜플 생성)\n",
    "new_tuple = my_tuple + (5,)  # (1, 2, 3, 4, 5)\n",
    "\n",
    "# 원소 선택\n",
    "element = my_tuple[1]  # 2\n",
    "\n",
    "# 함수\n",
    "length = len(my_tuple)  # 튜플 길이 반환\n",
    "print(my_tuple, new_tuple, element, length)"
   ]
  },
  {
   "cell_type": "markdown",
   "metadata": {},
   "source": [
    "## 3. Dictionary\n",
    "- **정의**: Python의 `dictionary`는 키-값(key-value) 쌍으로 이루어진 변경 가능한(mutable) 자료구조입니다.\n",
    "- **특징**:\n",
    "  - 순서가 있음 (Python 3.7+)\n",
    "  - 키는 중복 불가능, 값은 중복 가능\n",
    "  - 변경 가능 (Mutable)\n",
    "\n",
    "**주요 함수 및 설명**:\n",
    "- `dict[key] = value`: 키-값 쌍을 추가하거나 수정합니다.\n",
    "- `del dict[key]`: 지정된 키-값 쌍을 삭제합니다.\n",
    "- `dict.get(key)`: 키에 해당하는 값을 반환합니다. 키가 없으면 `None`을 반환합니다.\n",
    "- `keys()`: 딕셔너리의 모든 키를 반환합니다.\n",
    "- `values()`: 딕셔너리의 모든 값을 반환합니다.\n",
    "- `items()`: 딕셔너리의 모든 키-값 쌍을 반환합니다."
   ]
  },
  {
   "cell_type": "code",
   "execution_count": null,
   "metadata": {},
   "outputs": [],
   "source": [
    "# 생성\n",
    "my_dict = {\"a\": 1, \"b\": 2, \"c\": 3}\n",
    "\n",
    "# 추가\n",
    "my_dict[\"d\"] = 4  # {\"a\": 1, \"b\": 2, \"c\": 3, \"d\": 4}\n",
    "\n",
    "# 삭제\n",
    "del my_dict[\"b\"]  # {\"a\": 1, \"c\": 3, \"d\": 4}\n",
    "\n",
    "# 원소 선택\n",
    "value = my_dict[\"a\"]  # 1\n",
    "\n",
    "# 함수\n",
    "keys = my_dict.keys()  # 딕셔너리의 키 반환\n",
    "values = my_dict.values()  # 딕셔너리의 값 반환\n",
    "print(my_dict, value, list(keys), list(values))"
   ]
  },
  {
   "cell_type": "markdown",
   "metadata": {},
   "source": [
    "## 4. Set\n",
    "- **정의**: Python의 `set`은 순서가 없고 중복을 허용하지 않는 변경 가능한(mutable) 자료구조입니다.\n",
    "- **특징**:\n",
    "  - 순서 없음 (Indexing 불가능)\n",
    "  - 중복 불가능\n",
    "  - 변경 가능 (Mutable)\n",
    "\n",
    "**주요 함수 및 설명**:\n",
    "- `add(x)`: 집합에 요소 `x`를 추가합니다.\n",
    "- `remove(x)`: 집합에서 요소 `x`를 제거합니다. 요소가 없으면 `KeyError`가 발생합니다.\n",
    "- `discard(x)`: 집합에서 요소 `x`를 제거합니다. 요소가 없어도 오류가 발생하지 않습니다.\n",
    "- `clear()`: 집합의 모든 요소를 제거합니다.\n",
    "- `len(set)`: 집합의 길이를 반환합니다."
   ]
  },
  {
   "cell_type": "code",
   "execution_count": null,
   "metadata": {},
   "outputs": [],
   "source": [
    "# 생성\n",
    "my_set = {1, 2, 3, 4}\n",
    "\n",
    "# 추가\n",
    "my_set.add(5)  # {1, 2, 3, 4, 5}\n",
    "\n",
    "# 삭제\n",
    "my_set.remove(2)  # {1, 3, 4, 5}\n",
    "\n",
    "# 원소 선택 (불가능, 반복문 사용)\n",
    "for element in my_set:\n",
    "    print(element)\n",
    "\n",
    "# 함수\n",
    "length = len(my_set)  # 집합 길이 반환\n",
    "print(my_set, length)"
   ]
  },
  {
   "cell_type": "markdown",
   "metadata": {},
   "source": [
    "## 차이점 정리\n",
    "\n",
    "| 자료구조   | 순서 | 중복 허용 | 변경 가능성 | 주요 사용 사례                     |\n",
    "|------------|------|-----------|-------------|------------------------------------|\n",
    "| **List**   | O    | O         | O           | 순서가 중요한 데이터 저장          |\n",
    "| **Tuple**  | O    | O         | X           | 변경되지 않아야 하는 데이터 저장    |\n",
    "| **Dict**   | O    | 키: X, 값: O | O         | 키-값 쌍으로 데이터를 저장         |\n",
    "| **Set**    | X    | X         | O           | 중복 제거, 집합 연산               |"
   ]
  }
 ],
 "metadata": {
  "kernelspec": {
   "display_name": "Python 3",
   "language": "python",
   "name": "python3"
  },
  "language_info": {
   "name": "python",
   "version": "3.11.7"
  }
 },
 "nbformat": 4,
 "nbformat_minor": 5
}
