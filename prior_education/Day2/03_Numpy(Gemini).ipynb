{
 "cells": [
  {
   "cell_type": "markdown",
   "metadata": {},
   "source": [
    "# NumPy 배열의 핵심 기능\n",
    "\n",
    "NumPy는 파이썬에서 과학 계산을 위한 핵심 라이브러리입니다. 특히 다차원 배열(ndarray) 객체를 중심으로, 벡터화된 연산을 통해 매우 효율적인 데이터 처리를 가능하게 합니다.\n",
    "\n",
    "이 노트북에서는 NumPy 배열의 주요 기능인 **선택(Indexing/Slicing)**, **불리언 인덱싱(Boolean Indexing)**, **배열 연산(Operations)**, **배열 변형(Transpose)**에 대해 알아봅니다."
   ]
  },
  {
   "cell_type": "markdown",
   "metadata": {},
   "source": [
    "## 1. 배열의 선택 (Indexing & Slicing)\n",
    "\n",
    "NumPy 배열은 파이썬 리스트와 유사하게 인덱싱과 슬라이싱을 지원하지만, 다차원 배열에 대해 훨씬 강력하고 유연한 기능을 제공합니다.\n",
    "\n",
    "- **인덱싱(Indexing)**: 특정 위치의 단일 원소를 선택합니다. `arr[row, col]` 형식으로 접근합니다.\n",
    "- **슬라이싱(Slicing)**: 특정 범위의 원소들을 새로운 배열로 추출합니다. `arr[start:end:step]` 형식을 사용하며, 각 차원에 대해 개별적으로 적용할 수 있습니다."
   ]
  },
  {
   "cell_type": "code",
   "execution_count": 2,
   "metadata": {},
   "outputs": [
    {
     "name": "stdout",
     "output_type": "stream",
     "text": [
      "1D 배열: [0 1 2 3 4 5 6 7 8 9]\n",
      "인덱스 3의 원소: 3\n",
      "인덱스 2부터 5까지: [2 3 4 5]\n",
      "------------------------------\n",
      "2D 배열:\n",
      "[[1 2 3]\n",
      " [4 5 6]\n",
      " [7 8 9]]\n",
      "1행 2열의 원소: 6\n",
      "슬라이싱 된 배열:\n",
      "[[2 3]\n",
      " [5 6]]\n"
     ]
    }
   ],
   "source": [
    "import numpy as np\n",
    "\n",
    "# 1차원 배열\n",
    "arr1d = np.arange(10) # [0 1 2 3 4 5 6 7 8 9]\n",
    "print(f\"1D 배열: {arr1d}\")\n",
    "\n",
    "# 인덱싱\n",
    "print(f\"인덱스 3의 원소: {arr1d[3]}\")\n",
    "\n",
    "# 슬라이싱\n",
    "print(f\"인덱스 2부터 5까지: {arr1d[2:6]}\") # 인덱스 2,3,4,5\n",
    "\n",
    "print(\"-\" * 30)\n",
    "\n",
    "# 2차원 배열\n",
    "arr2d = np.array([[1, 2, 3],\n",
    "                  [4, 5, 6],\n",
    "                  [7, 8, 9]])\n",
    "print(f\"2D 배열:\\n{arr2d}\")\n",
    "\n",
    "# 인덱싱 (row, col)\n",
    "print(f\"1행 2열의 원소: {arr2d[1, 2]}\") # 6\n",
    "\n",
    "# 슬라이싱\n",
    "# 첫 두 행과 1열부터 끝까지\n",
    "sub_arr = arr2d[:2, 1:]\n",
    "print(f\"슬라이싱 된 배열:\\n{sub_arr}\")"
   ]
  },
  {
   "cell_type": "markdown",
   "metadata": {},
   "source": [
    "## 2. 불리언 인덱싱 (Boolean Indexing)\n",
    "\n",
    "불리언 인덱싱은 조건식을 사용하여 `True` 또는 `False` 값을 가진 불리언 배열을 만들고, 이 배열을 이용해 `True`에 해당하는 위치의 원소만 선택하는 매우 강력한 기능입니다. 데이터 필터링에 매우 유용합니다.\n",
    "\n",
    "- **사용법**: `배열[조건식]` 형태로 사용합니다.\n",
    "- **조건 결합**: 여러 조건을 결합할 때는 `&`(AND), `|`(OR) 연산자를 사용합니다. 파이썬의 `and`, `or`는 사용할 수 없습니다."
   ]
  },
  {
   "cell_type": "code",
   "execution_count": 3,
   "metadata": {},
   "outputs": [
    {
     "name": "stdout",
     "output_type": "stream",
     "text": [
      "이름 배열: ['Bob' 'Joe' 'Will' 'Bob' 'Will' 'Joe' 'Joe']\n",
      "데이터 배열:\n",
      "[[-1.2929644   0.1278675  -0.42951235 -0.79809533]\n",
      " [ 1.0788259   0.04749616  0.98878045 -0.87868647]\n",
      " [-0.41638631 -0.11890018 -0.52478364  0.78426246]\n",
      " [-0.23067843 -0.26218176  0.27664055  0.78635037]\n",
      " [ 0.37556998 -0.33364768  1.40105123  0.50812106]\n",
      " [ 0.70848999 -2.20903332 -0.77852817 -1.31432319]\n",
      " [-0.55737948 -0.97359263  1.09502265  1.49052556]]\n",
      "\n",
      "'Bob' 조건 배열: [ True False False  True False False False]\n",
      "'Bob'에 해당하는 데이터:\n",
      "[[-1.2929644   0.1278675  -0.42951235 -0.79809533]\n",
      " [-0.23067843 -0.26218176  0.27664055  0.78635037]]\n",
      "\n",
      "'Bob'이 아닌 데이터:\n",
      "[[ 1.0788259   0.04749616  0.98878045 -0.87868647]\n",
      " [-0.41638631 -0.11890018 -0.52478364  0.78426246]\n",
      " [ 0.37556998 -0.33364768  1.40105123  0.50812106]\n",
      " [ 0.70848999 -2.20903332 -0.77852817 -1.31432319]\n",
      " [-0.55737948 -0.97359263  1.09502265  1.49052556]]\n",
      "\n",
      "'Bob' 또는 'Will' 조건 배열: [ True False  True  True  True False False]\n",
      "'Bob' 또는 'Will'에 해당하는 데이터:\n",
      "[[-1.2929644   0.1278675  -0.42951235 -0.79809533]\n",
      " [-0.41638631 -0.11890018 -0.52478364  0.78426246]\n",
      " [-0.23067843 -0.26218176  0.27664055  0.78635037]\n",
      " [ 0.37556998 -0.33364768  1.40105123  0.50812106]]\n",
      "\n",
      "수정 전 데이터의 일부:\n",
      "[[-1.2929644   0.1278675  -0.42951235 -0.79809533]\n",
      " [ 1.0788259   0.04749616  0.98878045 -0.87868647]]\n",
      "0보다 작은 값을 0으로 수정한 후 데이터의 일부:\n",
      "[[0.         0.1278675  0.         0.        ]\n",
      " [1.0788259  0.04749616 0.98878045 0.        ]]\n"
     ]
    }
   ],
   "source": [
    "# 예제 배열 생성\n",
    "names = np.array(['Bob', 'Joe', 'Will', 'Bob', 'Will', 'Joe', 'Joe'])\n",
    "data = np.random.randn(7, 4) # 7x4 크기의 랜덤 데이터\n",
    "\n",
    "print(f\"이름 배열: {names}\")\n",
    "print(f\"데이터 배열:\\n{data}\")\n",
    "\n",
    "# 'Bob'에 해당하는 행의 데이터만 선택\n",
    "bob_condition = (names == 'Bob')\n",
    "print(f\"\\n'Bob' 조건 배열: {bob_condition}\")\n",
    "print(f\"'Bob'에 해당하는 데이터:\\n{data[bob_condition]}\")\n",
    "\n",
    "# 'Bob'이 아닌 모든 데이터 선택\n",
    "print(f\"\\n'Bob'이 아닌 데이터:\\n{data[~(names == 'Bob')]}\")\n",
    "\n",
    "# 여러 조건 결합 ('Bob' 또는 'Will')\n",
    "multi_condition = (names == 'Bob') | (names == 'Will')\n",
    "print(f\"\\n'Bob' 또는 'Will' 조건 배열: {multi_condition}\")\n",
    "print(f\"'Bob' 또는 'Will'에 해당하는 데이터:\\n{data[multi_condition]}\")\n",
    "\n",
    "# 데이터 자체에 조건 걸기\n",
    "# data 배열에서 0보다 작은 값들을 모두 0으로 바꾸기\n",
    "print(f\"\\n수정 전 데이터의 일부:\\n{data[:2]}\")\n",
    "data[data < 0] = 0\n",
    "print(f\"0보다 작은 값을 0으로 수정한 후 데이터의 일부:\\n{data[:2]}\")"
   ]
  },
  {
   "cell_type": "markdown",
   "metadata": {},
   "source": [
    "## 3. 배열 연산 (Array Operations)\n",
    "\n",
    "NumPy 배열의 가장 큰 장점 중 하나는 `for` 반복문 없이 배열 전체에 대해 빠르고 효율적인 연산을 수행할 수 있다는 점입니다. 이를 **벡터화(Vectorization)**라고 합니다.\n",
    "\n",
    "- **기본 연산**: `+`, `-`, `*`, `/` 등 사칙연산은 배열의 각 원소별(element-wise)로 적용됩니다.\n",
    "- **유니버설 함수(Universal Functions, ufunc)**: 배열의 모든 원소에 적용되는 함수들입니다. `np.sqrt()`, `np.exp()`, `np.log()`, `np.sin()` 등이 있습니다."
   ]
  },
  {
   "cell_type": "code",
   "execution_count": 5,
   "metadata": {},
   "outputs": [
    {
     "name": "stdout",
     "output_type": "stream",
     "text": [
      "원본 배열:\n",
      "[[1. 2. 3.]\n",
      " [4. 5. 6.]]\n",
      "\n",
      "배열 덧셈 (arr + arr):\n",
      "[[ 2.  4.  6.]\n",
      " [ 8. 10. 12.]]\n",
      "배열 곱셈 (arr * arr):\n",
      "[[ 1.  4.  9.]\n",
      " [16. 25. 36.]]\n",
      "\n",
      "스칼라 곱셈 (arr * 2):\n",
      "[[ 2.  4.  6.]\n",
      " [ 8. 10. 12.]]\n",
      "스칼라 뺄셈 (10 - arr):\n",
      "[[9. 8. 7.]\n",
      " [6. 5. 4.]]\n",
      "\n",
      "제곱근 (np.sqrt(arr)):\n",
      "[[1.         1.41421356 1.73205081]\n",
      " [2.         2.23606798 2.44948974]]\n",
      "지수 (np.exp(arr)):\n",
      "[[  2.71828183   7.3890561   20.08553692]\n",
      " [ 54.59815003 148.4131591  403.42879349]]\n"
     ]
    }
   ],
   "source": [
    "arr = np.array([[1., 2., 3.], [4., 5., 6.]])\n",
    "print(f\"원본 배열:\\n{arr}\")\n",
    "\n",
    "# 배열과 배열의 연산 (element-wise)\n",
    "print(f\"\\n배열 덧셈 (arr + arr):\\n{arr + arr}\")\n",
    "print(f\"배열 곱셈 (arr * arr):\\n{arr * arr}\")\n",
    "\n",
    "# 스칼라와의 연산 (broadcasting)\n",
    "print(f\"\\n스칼라 곱셈 (arr * 2):\\n{arr * 2}\")\n",
    "print(f\"스칼라 뺄셈 (10 - arr):\\n{10 - arr}\")\n",
    "\n",
    "# 유니버설 함수 사용\n",
    "print(f\"\\n제곱근 (np.sqrt(arr)):\\n{np.sqrt(arr)}\")\n",
    "print(f\"지수 (np.exp(arr)):\\n{np.exp(arr)}\")"
   ]
  },
  {
   "cell_type": "markdown",
   "metadata": {},
   "source": [
    "## 4. Transpose를 사용한 배열 변형\n",
    "\n",
    "Transpose는 배열의 행과 열을 바꾸는 작업을 의미합니다. 2차원 배열의 경우, 행은 열이 되고 열은 행이 됩니다.\n",
    "\n",
    "- **`.T` 속성**: 배열의 `T` 속성에 접근하여 간단하게 Transpose를 수행할 수 있습니다.\n",
    "- **`np.transpose()` 함수**: NumPy의 `transpose()` 함수를 사용해도 동일한 결과를 얻을 수 있습니다. 다차원 배열의 축을 더 세밀하게 제어할 때 유용합니다."
   ]
  },
  {
   "cell_type": "code",
   "execution_count": 4,
   "metadata": {},
   "outputs": [
    {
     "name": "stdout",
     "output_type": "stream",
     "text": [
      "원본 배열 (3x5):\n",
      "[[ 0  1  2  3  4]\n",
      " [ 5  6  7  8  9]\n",
      " [10 11 12 13 14]]\n",
      "\n",
      ".T 속성으로 Transpose된 배열 (5x3):\n",
      "[[ 0  5 10]\n",
      " [ 1  6 11]\n",
      " [ 2  7 12]\n",
      " [ 3  8 13]\n",
      " [ 4  9 14]]\n",
      "\n",
      "np.transpose() 함수로 Transpose된 배열 (5x3):\n",
      "[[ 0  5 10]\n",
      " [ 1  6 11]\n",
      " [ 2  7 12]\n",
      " [ 3  8 13]\n",
      " [ 4  9 14]]\n",
      "\n",
      "원본 배열과 Transpose된 배열의 내적 결과 (3x3):\n",
      "[[ 30  80 130]\n",
      " [ 80 255 430]\n",
      " [130 430 730]]\n"
     ]
    }
   ],
   "source": [
    "arr = np.arange(15).reshape((3, 5))\n",
    "print(f\"원본 배열 (3x5):\\n{arr}\")\n",
    "\n",
    "# .T 속성을 이용한 Transpose\n",
    "transposed_arr_T = arr.T\n",
    "print(f\"\\n.T 속성으로 Transpose된 배열 (5x3):\\n{transposed_arr_T}\")\n",
    "\n",
    "# np.transpose() 함수를 이용한 Transpose\n",
    "transposed_arr_func = np.transpose(arr)\n",
    "print(f\"\\nnp.transpose() 함수로 Transpose된 배열 (5x3):\\n{transposed_arr_func}\")\n",
    "\n",
    "# 행렬의 내적(dot product) 계산 예시\n",
    "# (m x n) . (n x p) = (m x p)\n",
    "dot_product = np.dot(arr, arr.T)\n",
    "print(f\"\\n원본 배열과 Transpose된 배열의 내적 결과 (3x3):\\n{dot_product}\")"
   ]
  },
  {
   "cell_type": "code",
   "execution_count": null,
   "metadata": {},
   "outputs": [],
   "source": []
  }
 ],
 "metadata": {
  "kernelspec": {
   "display_name": "Python 3",
   "language": "python",
   "name": "python3"
  },
  "language_info": {
   "codemirror_mode": {
    "name": "ipython",
    "version": 3
   },
   "file_extension": ".py",
   "mimetype": "text/x-python",
   "name": "python",
   "nbconvert_exporter": "python",
   "pygments_lexer": "ipython3",
   "version": "3.11.7"
  }
 },
 "nbformat": 4,
 "nbformat_minor": 4
}
