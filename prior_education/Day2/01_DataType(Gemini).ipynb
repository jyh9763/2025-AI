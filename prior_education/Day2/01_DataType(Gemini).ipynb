{
 "cells": [
  {
   "cell_type": "markdown",
   "metadata": {},
   "source": [
    "# 파이썬 핵심 자료구조: List, Tuple, Dictionary, Set\n",
    "\n",
    "파이썬은 데이터를 효율적으로 관리하기 위한 여러 내장 자료구조를 제공합니다. 그중 가장 기본적이고 중요한 네 가지 자료구조(List, Tuple, Dictionary, Set)에 대해 알아봅니다."
   ]
  },
  {
   "cell_type": "markdown",
   "metadata": {},
   "source": [
    "## 1. 리스트 (List)\n",
    "\n",
    "**특징:**\n",
    "- 순서가 있는(ordered) 데이터의 모음입니다.\n",
    "- 생성된 후에 아이템을 추가, 수정, 삭제할 수 있습니다 (mutable).\n",
    "- 동일한 값을 여러 번 가질 수 있습니다 (duplicates allowed).\n",
    "- 대괄호 `[]`로 표현합니다."
   ]
  },
  {
   "cell_type": "markdown",
   "metadata": {},
   "source": [
    "#### 주요 함수 및 메서드\n",
    "- **생성**: `[]` 또는 `list()`를 사용합니다.\n",
    "- **추가**:\n",
    "    - `append(x)`: 리스트의 맨 끝에 항목 `x`를 추가합니다.\n",
    "    - `insert(i, x)`: 인덱스 `i`에 항목 `x`를 삽입합니다.\n",
    "- **삭제**:\n",
    "    - `remove(x)`: 리스트에서 값이 `x`인 첫 번째 항목을 삭제합니다.\n",
    "    - `pop(i)`: 인덱스 `i`의 항목을 제거하고 그 항목을 반환합니다. 인덱스를 지정하지 않으면 마지막 항목을 제거합니다.\n",
    "    - `del list[i]`: 인덱스 `i`의 항목을 삭제합니다.\n",
    "- **선택**:\n",
    "    - `list[i]`: 인덱스 `i`에 있는 항목을 반환합니다.\n",
    "    - `list[i:j]`: 인덱스 `i`부터 `j-1`까지의 항목들을 새로운 리스트로 반환합니다."
   ]
  },
  {
   "cell_type": "code",
   "execution_count": null,
   "metadata": {},
   "outputs": [],
   "source": [
    "# 1. 생성 (Creation)\n",
    "my_list = [1, 'apple', 3.14, 'apple', True]\n",
    "print(f\"리스트 생성: {my_list}\")\n",
    "\n",
    "# 2. 추가 (Addition)\n",
    "my_list.append('banana') # 맨 뒤에 추가\n",
    "print(f\"append 후: {my_list}\")\n",
    "my_list.insert(1, 'orange') # 인덱스 1에 추가\n",
    "print(f\"insert 후: {my_list}\")\n",
    "\n",
    "# 3. 삭제 (Deletion)\n",
    "my_list.remove('apple') # 첫 번째로 발견되는 'apple' 삭제\n",
    "print(f\"remove 후: {my_list}\")\n",
    "popped_item = my_list.pop(2) # 인덱스 2의 원소를 빼내고 반환\n",
    "print(f\"pop으로 삭제된 항목: {popped_item}\")\n",
    "print(f\"pop 후: {my_list}\")\n",
    "del my_list[0] # 인덱스 0의 원소 삭제\n",
    "print(f\"del 후: {my_list}\")\n",
    "\n",
    "# 4. 원소 선택 (Accessing)\n",
    "print(f\"첫 번째 원소: {my_list[0]}\")\n",
    "print(f\"마지막 원소: {my_list[-1]}\")\n",
    "print(f\"슬라이싱 (1~2): {my_list[1:3]}\")"
   ]
  },
  {
   "cell_type": "markdown",
   "metadata": {},
   "source": [
    "## 2. 튜플 (Tuple)\n",
    "\n",
    "**특징:**\n",
    "- 순서가 있는(ordered) 데이터의 모음입니다.\n",
    "- **생성된 후에 아이템을 수정, 추가, 삭제할 수 없습니다 (immutable).**\n",
    "- 동일한 값을 여러 번 가질 수 있습니다 (duplicates allowed).\n",
    "- 소괄호 `()`로 표현합니다."
   ]
  },
  {
   "cell_type": "markdown",
   "metadata": {},
   "source": [
    "#### 주요 함수 및 개념\n",
    "- **생성**: `()` 또는 `tuple()`을 사용합니다. 원소가 하나일 경우 `(item,)`처럼 콤마를 붙여야 합니다.\n",
    "- **추가/삭제**: 튜플은 불변(immutable)이므로 직접적인 추가/삭제가 불가능합니다.\n",
    "    - `+` 연산자를 사용하여 두 튜플을 합친 새로운 튜플을 만들 수 있습니다.\n",
    "- **선택**:\n",
    "    - `tuple[i]`: 인덱스 `i`에 있는 항목을 반환합니다.\n",
    "    - `tuple[i:j]`: 인덱스 `i`부터 `j-1`까지의 항목들을 새로운 튜플로 반환합니다."
   ]
  },
  {
   "cell_type": "code",
   "execution_count": null,
   "metadata": {},
   "outputs": [],
   "source": [
    "# 1. 생성 (Creation)\n",
    "my_tuple = (1, 'apple', 3.14, 'apple', True)\n",
    "print(f\"튜플 생성: {my_tuple}\")\n",
    "\n",
    "# 원소가 하나인 튜플은 뒤에 콤마(,)를 붙여야 합니다.\n",
    "single_tuple = (1,)\n",
    "print(f\"원소가 하나인 튜플: {single_tuple}\")\n",
    "\n",
    "# 2. 추가 (Addition) - 불가능\n",
    "# my_tuple.append('banana') # AttributeError 발생\n",
    "# 튜플은 불변이므로, 새로운 튜플을 만드는 방식으로 연결해야 합니다.\n",
    "new_tuple = my_tuple + ('banana',)\n",
    "print(f\"튜플 연결 후: {new_tuple}\")\n",
    "\n",
    "# 3. 삭제 (Deletion) - 불가능\n",
    "# del my_tuple[0] # TypeError 발생\n",
    "\n",
    "# 4. 원소 선택 (Accessing)\n",
    "print(f\"첫 번째 원소: {my_tuple[0]}\")\n",
    "print(f\"마지막 원소: {my_tuple[-1]}\")\n",
    "print(f\"슬라이싱 (1~2): {my_tuple[1:3]}\")"
   ]
  },
  {
   "cell_type": "markdown",
   "metadata": {},
   "source": [
    "## 3. 딕셔너리 (Dictionary)\n",
    "\n",
    "**특징:**\n",
    "- `Key:Value` 쌍으로 이루어진 데이터의 모음입니다.\n",
    "- **Key는 고유해야 하며(unique), 중복될 수 없습니다.** Value는 중복 가능합니다.\n",
    "- 생성된 후에 아이템을 추가, 수정, 삭제할 수 있습니다 (mutable).\n",
    "- 순서가 보장되지 않았으나, Python 3.7+ 부터는 입력 순서가 유지됩니다.\n",
    "- 중괄호 `{}`로 표현합니다."
   ]
  },
  {
   "cell_type": "markdown",
   "metadata": {},
   "source": [
    "#### 주요 함수 및 메서드\n",
    "- **생성**: `{}` 또는 `dict()`를 사용합니다.\n",
    "- **추가/수정**:\n",
    "    - `dict[key] = value`: `key`에 `value`를 할당합니다. `key`가 존재하면 값이 수정되고, 없으면 새로운 항목이 추가됩니다.\n",
    "- **삭제**:\n",
    "    - `pop(key)`: `key`에 해당하는 항목을 제거하고 그 `value`를 반환합니다.\n",
    "    - `del dict[key]`: `key`에 해당하는 항목을 삭제합니다.\n",
    "- **선택**:\n",
    "    - `dict[key]`: `key`에 해당하는 `value`를 반환합니다. `key`가 없으면 `KeyError`가 발생합니다.\n",
    "    - `get(key)`: `key`에 해당하는 `value`를 반환합니다. `key`가 없으면 `None`이나 지정한 기본값을 반환하여 더 안전합니다."
   ]
  },
  {
   "cell_type": "code",
   "execution_count": null,
   "metadata": {},
   "outputs": [],
   "source": [
    "# 1. 생성 (Creation)\n",
    "my_dict = {'name': 'Alice', 'age': 25, 'city': 'New York'}\n",
    "print(f\"딕셔너리 생성: {my_dict}\")\n",
    "\n",
    "# 2. 추가 및 수정 (Addition & Modification)\n",
    "my_dict['email'] = 'alice@example.com' # 새로운 Key-Value 추가\n",
    "print(f\"추가 후: {my_dict}\")\n",
    "my_dict['age'] = 26 # 기존 Key의 Value 수정\n",
    "print(f\"수정 후: {my_dict}\")\n",
    "\n",
    "# 3. 삭제 (Deletion)\n",
    "popped_value = my_dict.pop('city') # 'city' Key를 가진 아이템 삭제 및 Value 반환\n",
    "print(f\"pop으로 삭제된 값: {popped_value}\")\n",
    "print(f\"pop 후: {my_dict}\")\n",
    "del my_dict['age'] # 'age' Key를 가진 아이템 삭제\n",
    "print(f\"del 후: {my_dict}\")\n",
    "\n",
    "# 4. 원소 선택 (Accessing)\n",
    "# Key를 통해 Value에 접근합니다.\n",
    "print(f\"이름: {my_dict['name']}\")\n",
    "# .get() 메서드는 Key가 없을 때 오류 대신 None이나 지정된 기본값을 반환합니다.\n",
    "print(f\"이메일: {my_dict.get('email')}\")\n",
    "print(f\"직업 (없음): {my_dict.get('job', 'Not specified')}\")"
   ]
  },
  {
   "cell_type": "markdown",
   "metadata": {},
   "source": [
    "## 4. 세트 (Set)\n",
    "\n",
    "**특징:**\n",
    "- **순서가 없는(unordered) 데이터의 모음입니다.**\n",
    "- **중복된 값을 허용하지 않습니다 (no duplicates).**\n",
    "- 생성된 후에 아이템을 추가, 삭제할 수 있습니다 (mutable).\n",
    "- 중괄호 `{}`로 표현하지만, 비어있는 세트는 `set()`으로 만들어야 합니다. (`{}`는 빈 딕셔너리)\n",
    "- 합집합, 교집합, 차집합 등 집합 연산에 유용합니다."
   ]
  },
  {
   "cell_type": "markdown",
   "metadata": {},
   "source": [
    "#### 주요 함수 및 메서드\n",
    "- **생성**: `{}` 또는 `set()`을 사용합니다. 단, 빈 세트를 만들 때는 반드시 `set()`을 사용해야 합니다 (`{}`는 빈 딕셔너리).\n",
    "- **추가**:\n",
    "    - `add(x)`: 항목 `x`를 추가합니다.\n",
    "    - `update([x, y, ...])`: 여러 항목을 한 번에 추가합니다.\n",
    "- **삭제**:\n",
    "    - `remove(x)`: 항목 `x`를 삭제합니다. 항목이 없으면 `KeyError`가 발생합니다.\n",
    "    - `discard(x)`: 항목 `x`를 삭제합니다. 항목이 없어도 에러가 발생하지 않습니다.\n",
    "- **선택**: 순서가 없으므로 인덱스로 선택할 수 없습니다. `in` 키워드를 사용하여 항목의 존재 여부를 확인합니다."
   ]
  },
  {
   "cell_type": "code",
   "execution_count": null,
   "metadata": {},
   "outputs": [],
   "source": [
    "# 1. 생성 (Creation)\n",
    "my_set = {1, 2, 3, 'apple', 2, 3} # 중복된 원소는 자동으로 제거됨\n",
    "print(f\"세트 생성: {my_set}\")\n",
    "\n",
    "empty_set = set()\n",
    "print(f\"빈 세트: {empty_set}\")\n",
    "\n",
    "# 2. 추가 (Addition)\n",
    "my_set.add(4)\n",
    "my_set.add('apple') # 이미 있는 원소는 추가되지 않음\n",
    "print(f\"add 후: {my_set}\")\n",
    "my_set.update({5, 6, 'banana'})\n",
    "print(f\"update 후: {my_set}\")\n",
    "\n",
    "# 3. 삭제 (Deletion)\n",
    "my_set.remove(3) # 원소가 없으면 KeyError 발생\n",
    "print(f\"remove 후: {my_set}\")\n",
    "my_set.discard('orange') # 원소가 없어도 에러 발생하지 않음\n",
    "print(f\"discard 후: {my_set}\")\n",
    "\n",
    "# 4. 원소 선택 (Accessing)\n",
    "# 세트는 순서가 없으므로 인덱싱을 지원하지 않습니다.\n",
    "# my_set[0] # TypeError 발생\n",
    "\n",
    "# 원소의 존재 여부 확인은 가능합니다.\n",
    "print(f\"'apple'이 세트에 있나요? {'apple' in my_set}\")\n",
    "print(f\"'orange'이 세트에 있나요? {'orange' in my_set}\")"
   ]
  },
  {
   "cell_type": "markdown",
   "metadata": {},
   "source": [
    "## 5. 자료구조별 차이점 정리\n",
    "\n",
    "| 구분 | **List (리스트)** | **Tuple (튜플)** | **Dictionary (딕셔너리)** | **Set (세트)** |\n",
    "|:---:|:---:|:---:|:---:|:---:|\n",
    "| **형태** | `[1, 2, 3]` | `(1, 2, 3)` | `{'a': 1, 'b': 2}` | `{1, 2, 3}` |\n",
    "| **순서** | O (유지됨) | O (유지됨) | △ (Python 3.7+ 부터 유지) | X (보장 안됨) |\n",
    "| **수정 가능성** | O (Mutable) | X (Immutable) | O (Mutable) | O (Mutable) |\n",
    "| **중복** | O (허용) | O (허용) | X (Key 중복 불가) | X (허용 안함) |\n",
    "| **주요 용도** | 순서가 중요하고, 수정이 필요한 데이터 모음 | 수정되면 안 되는 데이터 모음 (함수 인자, 반환 값 등) | Key를 통해 데이터를 빠르게 찾고 싶을 때 | 중복을 제거하고, 집합 연산이 필요할 때 |"
   ]
  }
 ],
 "metadata": {
  "kernelspec": {
   "display_name": "Python 3",
   "language": "python",
   "name": "python3"
  },
  "language_info": {
   "codemirror_mode": {
    "name": "ipython",
    "version": 3
   },
   "file_extension": ".py",
   "mimetype": "text/x-python",
   "name": "python",
   "nbconvert_exporter": "python",
   "pygments_lexer": "ipython3",
   "version": "3.9.7"
  }
 },
 "nbformat": 4,
 "nbformat_minor": 4
}