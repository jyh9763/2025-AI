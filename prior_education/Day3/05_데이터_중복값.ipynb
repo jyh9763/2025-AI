{
 "cells": [
  {
   "cell_type": "markdown",
   "metadata": {},
   "source": [
    "# 데이터 중복값 처리"
   ]
  },
  {
   "cell_type": "markdown",
   "metadata": {},
   "source": [
    "데이터를 수집하거나 여러 데이터 소스를 결합하는 과정에서 동일한 데이터가 여러 번 기록되는 경우가 발생할 수 있습니다. 이러한 **중복 데이터(Duplicate Data)**는 데이터 분석 결과를 왜곡시킬 수 있으므로, 전처리 과정에서 반드시 확인하고 제거해야 합니다.\n",
    "\n",
    "### 왜 중복값을 처리해야 하는가?\n",
    "\n",
    "1.  **분석 왜곡**: 동일한 데이터가 여러 개 존재하면 특정 값의 개수가 부풀려져 통계량이 왜곡될 수 있습니다.\n",
    "2.  **모델 성능 저하**: 머신러닝 모델 학습 시, 중복된 데이터는 특정 패턴에 과적합(Overfitting)되는 원인이 될 수 있습니다.\n",
    "3.  **자원 낭비**: 불필요한 데이터가 저장 공간과 계산 리소스를 낭비하게 됩니다."
   ]
  },
  {
   "cell_type": "code",
   "execution_count": null,
   "metadata": {},
   "outputs": [],
   "source": [
    "import pandas as pd\n",
    "\n",
    "# 예제 데이터프레임 생성 (중복값 포함)\n",
    "data = {\n",
    "    'c1': ['a', 'b', 'c', 'a', 'd', 'b'],\n",
    "    'c2': [1, 2, 3, 1, 4, 2],\n",
    "    'c3': [10.1, 20.2, 30.3, 10.1, 40.4, 20.2]\n",
    "}\n",
    "df = pd.DataFrame(data)\n",
    "\n",
    "print(\"--- 원본 데이터프레임 ---\")\n",
    "print(df)"
   ]
  },
  {
   "cell_type": "markdown",
   "metadata": {},
   "source": [
    "## 1. 중복값 확인 (`duplicated()`)\n",
    "\n",
    "`duplicated()` 메서드는 각 행이 이전에 나타난 행과 중복되는지 여부를 boolean 값 (True/False)으로 반환합니다. 모든 열의 값이 완전히 동일해야 중복으로 간주합니다.\n",
    "\n",
    "### 주요 파라미터\n",
    "- `keep`: 중복된 값들 중 어떤 것을 `False` (중복 아님)로 표시할지 결정합니다.\n",
    "  - `'first'` (기본값): 처음 나타나는 값은 `False`, 그 이후의 중복값들은 `True`로 표시합니다.\n",
    "  - `'last'`: 마지막에 나타나는 값은 `False`, 그 이전의 중복값들은 `True`로 표시합니다.\n",
    "  - `False`: 모든 중복값들을 `True`로 표시합니다."
   ]
  },
  {
   "cell_type": "code",
   "execution_count": null,
   "metadata": {},
   "outputs": [],
   "source": [
    "# 중복 여부 확인 (기본값 keep='first')\n",
    "# 0, 1, 2, 4번 행은 처음 나타났으므로 False\n",
    "# 3번 행은 0번 행과 중복, 5번 행은 1번 행과 중복이므로 True\n",
    "print(\"--- 중복 확인 (keep='first') ---\")\n",
    "print(df.duplicated())\n",
    "\n",
    "# 중복된 행들만 필터링하여 확인\n",
    "print(\"\\n--- 중복된 행 조회 ---\")\n",
    "print(df[df.duplicated()])\n",
    "\n",
    "# 모든 중복 행을 True로 표시 (keep=False)\n",
    "print(\"\\n--- 모든 중복 행 확인 (keep=False) ---\")\n",
    "print(df[df.duplicated(keep=False)])"
   ]
  },
  {
   "cell_type": "markdown",
   "metadata": {},
   "source": [
    "## 2. 중복값 제거 (`drop_duplicates()`)\n",
    "\n",
    "`drop_duplicates()` 메서드는 중복된 행을 제거한 새로운 데이터프레임을 반환합니다.\n",
    "\n",
    "### 주요 파라미터\n",
    "- `subset`: 중복 여부를 판단할 기준이 되는 열(들)을 리스트 형태로 지정합니다. 지정하지 않으면 모든 열을 기준으로 판단합니다.\n",
    "- `keep`: 중복된 값들 중 어떤 것을 남길지 결정합니다. (`'first'`, `'last'`, `False`)\n",
    "  - `'first'` (기본값): 처음 나타나는 값만 남기고 나머지는 제거합니다.\n",
    "  - `'last'`: 마지막에 나타나는 값만 남기고 나머지는 제거합니다.\n",
    "  - `False`: 모든 중복값을 제거합니다.\n",
    "- `inplace`: `True`로 설정하면 원본 데이터프레임을 직접 수정합니다. (기본값은 `False`)"
   ]
  },
  {
   "cell_type": "code",
   "execution_count": null,
   "metadata": {},
   "outputs": [],
   "source": [
    "# 모든 열을 기준으로 중복된 행 제거 (기본값 keep='first')\n",
    "df_deduplicated = df.drop_duplicates()\n",
    "print(\"--- 전체 열 기준 중복 제거 후 ---\")\n",
    "print(df_deduplicated)\n",
    "\n",
    "# 마지막 중복값을 남기고 제거 (keep='last')\n",
    "df_deduplicated_last = df.drop_duplicates(keep='last')\n",
    "print(\"\\n--- 마지막 값 남기고 중복 제거 후 ---\")\n",
    "print(df_deduplicated_last)"
   ]
  },
  {
   "cell_type": "markdown",
   "metadata": {},
   "source": [
    "### 특정 열을 기준으로 중복 처리\n",
    "\n",
    "때로는 모든 열이 아니라 특정 열의 값이 중복되는 경우만 처리하고 싶을 수 있습니다. 이때 `subset` 파라미터를 사용합니다."
   ]
  },
  {
   "cell_type": "code",
   "execution_count": null,
   "metadata": {},
   "outputs": [],
   "source": [
    "# 'c1' 열의 값을 기준으로 중복 제거\n",
    "# 'a'와 'b'가 중복되므로, 처음 나타나는 0번, 1번 행만 남음\n",
    "df_subset_deduplicated = df.drop_duplicates(subset=['c1'])\n",
    "print(\"--- 'c1' 열 기준 중복 제거 후 ---\")\n",
    "print(df_subset_deduplicated)\n",
    "\n",
    "# 'c1'과 'c2' 열을 기준으로 중복 제거\n",
    "# (c1, c2) 쌍이 ('a', 1), ('b', 2)인 행들이 중복되므로, 처음 나타나는 행들만 남음\n",
    "df_subset_multi_deduplicated = df.drop_duplicates(subset=['c1', 'c2'])\n",
    "print(\"\\n--- 'c1', 'c2' 열 기준 중복 제거 후 ---\")\n",
    "print(df_subset_multi_deduplicated)"
   ]
  }
 ],
 "metadata": {
  "kernelspec": {
   "display_name": "Python 3",
   "language": "python",
   "name": "python3"
  },
  "language_info": {
   "codemirror_mode": {
    "name": "ipython",
    "version": 3
   },
   "file_extension": ".py",
   "mimetype": "text/x-python",
   "name": "python",
   "nbconvert_exporter": "python",
   "pygments_lexer": "ipython3",
   "version": "3.9.7"
  }
 },
 "nbformat": 4,
 "nbformat_minor": 2
}